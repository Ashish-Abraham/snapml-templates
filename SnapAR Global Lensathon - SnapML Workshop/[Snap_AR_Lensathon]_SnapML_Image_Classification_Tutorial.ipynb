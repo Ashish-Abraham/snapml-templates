{
  "nbformat": 4,
  "nbformat_minor": 0,
  "metadata": {
    "colab": {
      "name": "[Snap AR Lensathon] SnapML - Image Classification Tutorial.ipynb",
      "provenance": [],
      "collapsed_sections": []
    },
    "kernelspec": {
      "name": "python3",
      "display_name": "Python 3"
    },
    "language_info": {
      "name": "python"
    },
    "accelerator": "GPU",
    "widgets": {
      "application/vnd.jupyter.widget-state+json": {
        "ed59d75ac5654282b7432823f1db1cfa": {
          "model_module": "@jupyter-widgets/controls",
          "model_name": "HBoxModel",
          "model_module_version": "1.5.0",
          "state": {
            "_dom_classes": [],
            "_model_module": "@jupyter-widgets/controls",
            "_model_module_version": "1.5.0",
            "_model_name": "HBoxModel",
            "_view_count": null,
            "_view_module": "@jupyter-widgets/controls",
            "_view_module_version": "1.5.0",
            "_view_name": "HBoxView",
            "box_style": "",
            "children": [
              "IPY_MODEL_14994bec7fe2478cad4170ef646e5d2b",
              "IPY_MODEL_aaea3acb50b949428069db68a7db7c0f",
              "IPY_MODEL_6b396586212845fbb0dd943a5c5309ff"
            ],
            "layout": "IPY_MODEL_23270e508e9348c7b78cff62c581b664"
          }
        },
        "14994bec7fe2478cad4170ef646e5d2b": {
          "model_module": "@jupyter-widgets/controls",
          "model_name": "HTMLModel",
          "model_module_version": "1.5.0",
          "state": {
            "_dom_classes": [],
            "_model_module": "@jupyter-widgets/controls",
            "_model_module_version": "1.5.0",
            "_model_name": "HTMLModel",
            "_view_count": null,
            "_view_module": "@jupyter-widgets/controls",
            "_view_module_version": "1.5.0",
            "_view_name": "HTMLView",
            "description": "",
            "description_tooltip": null,
            "layout": "IPY_MODEL_a9d6769296d04ea3bb8beacbfd65ef07",
            "placeholder": "​",
            "style": "IPY_MODEL_68d79fd2f89c47d9a635012f632cd27c",
            "value": "100%"
          }
        },
        "aaea3acb50b949428069db68a7db7c0f": {
          "model_module": "@jupyter-widgets/controls",
          "model_name": "FloatProgressModel",
          "model_module_version": "1.5.0",
          "state": {
            "_dom_classes": [],
            "_model_module": "@jupyter-widgets/controls",
            "_model_module_version": "1.5.0",
            "_model_name": "FloatProgressModel",
            "_view_count": null,
            "_view_module": "@jupyter-widgets/controls",
            "_view_module_version": "1.5.0",
            "_view_name": "ProgressView",
            "bar_style": "success",
            "description": "",
            "description_tooltip": null,
            "layout": "IPY_MODEL_8ad732f98d0a4c33a9c7afc34735deee",
            "max": 10306551,
            "min": 0,
            "orientation": "horizontal",
            "style": "IPY_MODEL_da6c0ca513a74d50b620da1cc142228e",
            "value": 10306551
          }
        },
        "6b396586212845fbb0dd943a5c5309ff": {
          "model_module": "@jupyter-widgets/controls",
          "model_name": "HTMLModel",
          "model_module_version": "1.5.0",
          "state": {
            "_dom_classes": [],
            "_model_module": "@jupyter-widgets/controls",
            "_model_module_version": "1.5.0",
            "_model_name": "HTMLModel",
            "_view_count": null,
            "_view_module": "@jupyter-widgets/controls",
            "_view_module_version": "1.5.0",
            "_view_name": "HTMLView",
            "description": "",
            "description_tooltip": null,
            "layout": "IPY_MODEL_081953c309b143409b94fb426022b0ff",
            "placeholder": "​",
            "style": "IPY_MODEL_aaf0160f4d3e430ea797553c3443f287",
            "value": " 9.83M/9.83M [00:00&lt;00:00, 27.5MB/s]"
          }
        },
        "23270e508e9348c7b78cff62c581b664": {
          "model_module": "@jupyter-widgets/base",
          "model_name": "LayoutModel",
          "model_module_version": "1.2.0",
          "state": {
            "_model_module": "@jupyter-widgets/base",
            "_model_module_version": "1.2.0",
            "_model_name": "LayoutModel",
            "_view_count": null,
            "_view_module": "@jupyter-widgets/base",
            "_view_module_version": "1.2.0",
            "_view_name": "LayoutView",
            "align_content": null,
            "align_items": null,
            "align_self": null,
            "border": null,
            "bottom": null,
            "display": null,
            "flex": null,
            "flex_flow": null,
            "grid_area": null,
            "grid_auto_columns": null,
            "grid_auto_flow": null,
            "grid_auto_rows": null,
            "grid_column": null,
            "grid_gap": null,
            "grid_row": null,
            "grid_template_areas": null,
            "grid_template_columns": null,
            "grid_template_rows": null,
            "height": null,
            "justify_content": null,
            "justify_items": null,
            "left": null,
            "margin": null,
            "max_height": null,
            "max_width": null,
            "min_height": null,
            "min_width": null,
            "object_fit": null,
            "object_position": null,
            "order": null,
            "overflow": null,
            "overflow_x": null,
            "overflow_y": null,
            "padding": null,
            "right": null,
            "top": null,
            "visibility": null,
            "width": null
          }
        },
        "a9d6769296d04ea3bb8beacbfd65ef07": {
          "model_module": "@jupyter-widgets/base",
          "model_name": "LayoutModel",
          "model_module_version": "1.2.0",
          "state": {
            "_model_module": "@jupyter-widgets/base",
            "_model_module_version": "1.2.0",
            "_model_name": "LayoutModel",
            "_view_count": null,
            "_view_module": "@jupyter-widgets/base",
            "_view_module_version": "1.2.0",
            "_view_name": "LayoutView",
            "align_content": null,
            "align_items": null,
            "align_self": null,
            "border": null,
            "bottom": null,
            "display": null,
            "flex": null,
            "flex_flow": null,
            "grid_area": null,
            "grid_auto_columns": null,
            "grid_auto_flow": null,
            "grid_auto_rows": null,
            "grid_column": null,
            "grid_gap": null,
            "grid_row": null,
            "grid_template_areas": null,
            "grid_template_columns": null,
            "grid_template_rows": null,
            "height": null,
            "justify_content": null,
            "justify_items": null,
            "left": null,
            "margin": null,
            "max_height": null,
            "max_width": null,
            "min_height": null,
            "min_width": null,
            "object_fit": null,
            "object_position": null,
            "order": null,
            "overflow": null,
            "overflow_x": null,
            "overflow_y": null,
            "padding": null,
            "right": null,
            "top": null,
            "visibility": null,
            "width": null
          }
        },
        "68d79fd2f89c47d9a635012f632cd27c": {
          "model_module": "@jupyter-widgets/controls",
          "model_name": "DescriptionStyleModel",
          "model_module_version": "1.5.0",
          "state": {
            "_model_module": "@jupyter-widgets/controls",
            "_model_module_version": "1.5.0",
            "_model_name": "DescriptionStyleModel",
            "_view_count": null,
            "_view_module": "@jupyter-widgets/base",
            "_view_module_version": "1.2.0",
            "_view_name": "StyleView",
            "description_width": ""
          }
        },
        "8ad732f98d0a4c33a9c7afc34735deee": {
          "model_module": "@jupyter-widgets/base",
          "model_name": "LayoutModel",
          "model_module_version": "1.2.0",
          "state": {
            "_model_module": "@jupyter-widgets/base",
            "_model_module_version": "1.2.0",
            "_model_name": "LayoutModel",
            "_view_count": null,
            "_view_module": "@jupyter-widgets/base",
            "_view_module_version": "1.2.0",
            "_view_name": "LayoutView",
            "align_content": null,
            "align_items": null,
            "align_self": null,
            "border": null,
            "bottom": null,
            "display": null,
            "flex": null,
            "flex_flow": null,
            "grid_area": null,
            "grid_auto_columns": null,
            "grid_auto_flow": null,
            "grid_auto_rows": null,
            "grid_column": null,
            "grid_gap": null,
            "grid_row": null,
            "grid_template_areas": null,
            "grid_template_columns": null,
            "grid_template_rows": null,
            "height": null,
            "justify_content": null,
            "justify_items": null,
            "left": null,
            "margin": null,
            "max_height": null,
            "max_width": null,
            "min_height": null,
            "min_width": null,
            "object_fit": null,
            "object_position": null,
            "order": null,
            "overflow": null,
            "overflow_x": null,
            "overflow_y": null,
            "padding": null,
            "right": null,
            "top": null,
            "visibility": null,
            "width": null
          }
        },
        "da6c0ca513a74d50b620da1cc142228e": {
          "model_module": "@jupyter-widgets/controls",
          "model_name": "ProgressStyleModel",
          "model_module_version": "1.5.0",
          "state": {
            "_model_module": "@jupyter-widgets/controls",
            "_model_module_version": "1.5.0",
            "_model_name": "ProgressStyleModel",
            "_view_count": null,
            "_view_module": "@jupyter-widgets/base",
            "_view_module_version": "1.2.0",
            "_view_name": "StyleView",
            "bar_color": null,
            "description_width": ""
          }
        },
        "081953c309b143409b94fb426022b0ff": {
          "model_module": "@jupyter-widgets/base",
          "model_name": "LayoutModel",
          "model_module_version": "1.2.0",
          "state": {
            "_model_module": "@jupyter-widgets/base",
            "_model_module_version": "1.2.0",
            "_model_name": "LayoutModel",
            "_view_count": null,
            "_view_module": "@jupyter-widgets/base",
            "_view_module_version": "1.2.0",
            "_view_name": "LayoutView",
            "align_content": null,
            "align_items": null,
            "align_self": null,
            "border": null,
            "bottom": null,
            "display": null,
            "flex": null,
            "flex_flow": null,
            "grid_area": null,
            "grid_auto_columns": null,
            "grid_auto_flow": null,
            "grid_auto_rows": null,
            "grid_column": null,
            "grid_gap": null,
            "grid_row": null,
            "grid_template_areas": null,
            "grid_template_columns": null,
            "grid_template_rows": null,
            "height": null,
            "justify_content": null,
            "justify_items": null,
            "left": null,
            "margin": null,
            "max_height": null,
            "max_width": null,
            "min_height": null,
            "min_width": null,
            "object_fit": null,
            "object_position": null,
            "order": null,
            "overflow": null,
            "overflow_x": null,
            "overflow_y": null,
            "padding": null,
            "right": null,
            "top": null,
            "visibility": null,
            "width": null
          }
        },
        "aaf0160f4d3e430ea797553c3443f287": {
          "model_module": "@jupyter-widgets/controls",
          "model_name": "DescriptionStyleModel",
          "model_module_version": "1.5.0",
          "state": {
            "_model_module": "@jupyter-widgets/controls",
            "_model_module_version": "1.5.0",
            "_model_name": "DescriptionStyleModel",
            "_view_count": null,
            "_view_module": "@jupyter-widgets/base",
            "_view_module_version": "1.2.0",
            "_view_name": "StyleView",
            "description_width": ""
          }
        }
      }
    }
  },
  "cells": [
    {
      "cell_type": "markdown",
      "metadata": {
        "id": "E-Nu9diXjMml"
      },
      "source": [
        "# Dependencies\n",
        "Make sure pytorch, torchvision and GPU are avaliable. By default they should be preinstalled on CoLab."
      ]
    },
    {
      "cell_type": "code",
      "metadata": {
        "colab": {
          "base_uri": "https://localhost:8080/"
        },
        "id": "5UvXgqXBc3bX",
        "outputId": "747290aa-04af-4db6-b611-1292851b4550"
      },
      "source": [
        "!nvidia-smi\n",
        "import torch\n",
        "import torchvision\n",
        "import torchvision.transforms as transforms\n",
        "import torchvision.datasets as datasets\n",
        "import torchvision.models as models\n",
        "from torch import nn\n",
        "import time\n",
        "\n",
        "print(torch.__version__)\n",
        "assert torch.cuda.is_available()"
      ],
      "execution_count": null,
      "outputs": [
        {
          "output_type": "stream",
          "name": "stdout",
          "text": [
            "Wed Jun  1 16:29:34 2022       \n",
            "+-----------------------------------------------------------------------------+\n",
            "| NVIDIA-SMI 460.32.03    Driver Version: 460.32.03    CUDA Version: 11.2     |\n",
            "|-------------------------------+----------------------+----------------------+\n",
            "| GPU  Name        Persistence-M| Bus-Id        Disp.A | Volatile Uncorr. ECC |\n",
            "| Fan  Temp  Perf  Pwr:Usage/Cap|         Memory-Usage | GPU-Util  Compute M. |\n",
            "|                               |                      |               MIG M. |\n",
            "|===============================+======================+======================|\n",
            "|   0  Tesla T4            Off  | 00000000:00:04.0 Off |                    0 |\n",
            "| N/A   44C    P8     9W /  70W |      0MiB / 15109MiB |      0%      Default |\n",
            "|                               |                      |                  N/A |\n",
            "+-------------------------------+----------------------+----------------------+\n",
            "                                                                               \n",
            "+-----------------------------------------------------------------------------+\n",
            "| Processes:                                                                  |\n",
            "|  GPU   GI   CI        PID   Type   Process name                  GPU Memory |\n",
            "|        ID   ID                                                   Usage      |\n",
            "|=============================================================================|\n",
            "|  No running processes found                                                 |\n",
            "+-----------------------------------------------------------------------------+\n",
            "1.11.0+cu113\n"
          ]
        }
      ]
    },
    {
      "cell_type": "markdown",
      "metadata": {
        "id": "VHUvbLiLrvUZ"
      },
      "source": [
        "# Configure Kaggle API\n",
        "\n",
        "1. Go to your account, Scroll to API section and Click Expire API Token to remove previous tokens\n",
        "2. Click on Create New API Token - It will download kaggle.json file on your machine.\n",
        "3. Upload kaggle json\n",
        "\n"
      ]
    },
    {
      "cell_type": "code",
      "metadata": {
        "id": "5wL_u1wSjJUG"
      },
      "source": [
        "from google.colab import files\n",
        "!rm kaggle*\n",
        "files.upload()"
      ],
      "execution_count": null,
      "outputs": []
    },
    {
      "cell_type": "code",
      "source": [
        "# Let's make sure the kaggle.json file is present.\n",
        "!ls -lha kaggle.json"
      ],
      "metadata": {
        "id": "WIoJxoLSariO"
      },
      "execution_count": null,
      "outputs": []
    },
    {
      "cell_type": "markdown",
      "metadata": {
        "id": "j9CXJZ9alk9V"
      },
      "source": [
        "# Download Dataset\n",
        "Time to find our dataset. Download a cat vs dog dataset from Kaggle\n"
      ]
    },
    {
      "cell_type": "code",
      "source": [
        "# Next, install the Kaggle API client.\n",
        "!pip install -q kaggle"
      ],
      "metadata": {
        "id": "ONIlS4sla6Sb"
      },
      "execution_count": null,
      "outputs": []
    },
    {
      "cell_type": "code",
      "metadata": {
        "id": "Vh9QxoBTMO9C"
      },
      "source": [
        "# The Kaggle API client expects this file to be in ~/.kaggle,\n",
        "# so move it there.\n",
        "!mkdir -p ~/.kaggle\n",
        "!cp kaggle.json ~/.kaggle/\n",
        "\n",
        "# This permissions change avoids a warning on Kaggle tool startup.\n",
        "!chmod 600 ~/.kaggle/kaggle.json"
      ],
      "execution_count": null,
      "outputs": []
    },
    {
      "cell_type": "code",
      "source": [
        "!kaggle datasets list -s 'cats' # we can list all the dataset that has cats in it"
      ],
      "metadata": {
        "colab": {
          "base_uri": "https://localhost:8080/"
        },
        "id": "40QoWxzwYHts",
        "outputId": "21ff4d2c-f778-491a-ace7-2ec54ad5ffb3"
      },
      "execution_count": null,
      "outputs": [
        {
          "output_type": "stream",
          "name": "stdout",
          "text": [
            "ref                                                        title                                                size  lastUpdated          downloadCount  voteCount  usabilityRating  \n",
            "---------------------------------------------------------  --------------------------------------------------  -----  -------------------  -------------  ---------  ---------------  \n",
            "shaunthesheep/microsoft-catsvsdogs-dataset                 Cats-vs-Dogs                                        788MB  2020-03-12 05:34:30          10870        175  0.875            \n",
            "chetankv/dogs-cats-images                                  Dogs & Cats Images                                  435MB  2018-04-19 18:20:08          28014        527  0.5625           \n",
            "mmoreaux/audio-cats-and-dogs                               Audio Cats and Dogs                                  97MB  2017-10-05 09:40:26           8510        218  0.7647059        \n",
            "biaiscience/dogs-vs-cats                                   Dogs vs Cats                                        817MB  2017-12-05 14:03:33          13508        258  0.4375           \n",
            "tongpython/cat-and-dog                                     Cat and Dog                                         218MB  2018-04-26 10:56:50          56059        858  0.75             \n",
            "crawford/cat-dataset                                       Cat Dataset                                           4GB  2018-02-16 23:41:25          19460        595  0.8125           \n",
            "pybear/cats-vs-dogs                                        Cats -- VS -- Dogs                                  788MB  2020-10-18 13:55:30           1338         82  0.625            \n",
            "zippyz/cats-and-dogs-breeds-classification-oxford-dataset  Cats and Dogs Breeds Classification Oxford Dataset  780MB  2019-03-12 16:17:53           3749         83  0.8125           \n",
            "d4rklucif3r/cat-and-dogs                                   Cat & Dogs                                          218MB  2021-06-07 11:39:13           1002         48  0.875            \n",
            "rahul897/catsdogs                                          cats&dogs                                           217MB  2018-01-05 15:02:32           2437         33  0.3125           \n",
            "prasunroy/natural-images                                   Natural Images                                      342MB  2018-08-11 18:24:11          19267        372  0.75             \n",
            "salader/dogs-vs-cats                                       dogs vs cats                                          1GB  2018-11-30 19:31:13           1320         29  0.375            \n",
            "yufengsui/mobile-games-ab-testing                          Mobile Games: A/B Testing                           490KB  2019-07-22 08:37:03           1937         60  0.64705884       \n",
            "devdgohil/the-oxfordiiit-pet-dataset                       The Oxford-IIIT Pet Dataset                         780MB  2019-06-14 20:03:38           1309         25  0.875            \n",
            "mursideyarkin/mobile-games-ab-testing-cookie-cats          Mobile Games A/B Testing - Cookie Cats              487KB  2021-02-10 08:16:25            253         10  1.0              \n",
            "spandan2/cats-faces-64x64-for-generative-models            Cats faces 64x64 (For generative models)             96MB  2019-02-04 18:50:25           2438         40  0.375            \n",
            "thesherpafromalabama/cats-and-dogs-sentdex-tutorial        Cats and Dogs Sentdex Tutorial                        2GB  2018-10-08 14:27:49            503         13  0.5625           \n",
            "tunguz/cats-and-dogs-embedded-data                         Cats and Dogs Embedded Data                           7GB  2020-10-11 17:17:48            111         10  0.625            \n",
            "nafisur/dogs-vs-cats                                       Dogs_vs_cats                                        436MB  2018-04-25 08:01:49           2198         47  0.375            \n",
            "dhirensk/cats-vs-dogs-training8000test2000                 Cats vs Dogs Training8000Test2000                   436MB  2018-11-21 09:38:07            609         13  0.625            \n"
          ]
        }
      ]
    },
    {
      "cell_type": "code",
      "metadata": {
        "colab": {
          "base_uri": "https://localhost:8080/"
        },
        "id": "bzQVaOcKMHtD",
        "outputId": "5b50901b-444b-4767-a014-b4ef10d1143f"
      },
      "source": [
        "!kaggle datasets download tongpython/cat-and-dog # download cat and dog dataset"
      ],
      "execution_count": null,
      "outputs": [
        {
          "output_type": "stream",
          "name": "stdout",
          "text": [
            "Downloading cat-and-dog.zip to /content\n",
            " 96% 209M/218M [00:06<00:00, 39.0MB/s]\n",
            "100% 218M/218M [00:06<00:00, 35.4MB/s]\n"
          ]
        }
      ]
    },
    {
      "cell_type": "markdown",
      "metadata": {
        "id": "nkD_FYZE9RKa"
      },
      "source": [
        "Unzip dataset"
      ]
    },
    {
      "cell_type": "code",
      "metadata": {
        "id": "HBsKJbpP9S6A"
      },
      "source": [
        "!unzip -q cat-and-dog.zip "
      ],
      "execution_count": null,
      "outputs": []
    },
    {
      "cell_type": "markdown",
      "metadata": {
        "id": "i830tSbCIAr_"
      },
      "source": [
        "#Dataset Exploration\n",
        "\n",
        "We want to get a sense of what the dataset looks like. There are sometimes unreliable and unorganized data, and this step will helps us get rid of them. We can also check if the dataset is what we think they are, if not we may need to rethink our approach.\n",
        "\n",
        "For this tutorial, the datasets are all very clean, nevertheless we will still want to do some due deligence of checking them before we get started working with them."
      ]
    },
    {
      "cell_type": "markdown",
      "metadata": {
        "id": "58zVwertkItD"
      },
      "source": [
        "Explore folder structure"
      ]
    },
    {
      "cell_type": "code",
      "metadata": {
        "id": "w4JUxzS5dotb"
      },
      "source": [
        "!ls  training_set/training_set/cats"
      ],
      "execution_count": null,
      "outputs": []
    },
    {
      "cell_type": "code",
      "source": [
        "!ls  training_set/training_set/dogs"
      ],
      "metadata": {
        "id": "H0haMyukC1rn"
      },
      "execution_count": null,
      "outputs": []
    },
    {
      "cell_type": "markdown",
      "source": [
        "Within each class folder, we have the images. This is a very common folder structure for classification dataset."
      ],
      "metadata": {
        "id": "idtz0kJorjTy"
      }
    },
    {
      "cell_type": "code",
      "metadata": {
        "id": "jkNFPDK3kNF-",
        "colab": {
          "base_uri": "https://localhost:8080/",
          "height": 269
        },
        "outputId": "bd413ebf-e554-4340-989e-b51838ee00bf"
      },
      "source": [
        "import matplotlib.pyplot as plt # we will be using matplotlib to plot our images\n",
        "import matplotlib.image as mpimg\n",
        "# feel free to explore other images by changing the image path.\n",
        "img_path = 'training_set/training_set/dogs/dog.104.jpg' # #@param {\"type\": \"string\"}\n",
        "img = mpimg.imread(img_path)\n",
        "imgplot = plt.imshow(img)\n",
        "plt.show()\n",
        "\n"
      ],
      "execution_count": null,
      "outputs": [
        {
          "output_type": "display_data",
          "data": {
            "text/plain": [
              "<Figure size 432x288 with 1 Axes>"
            ],
            "image/png": "[encoded data removed]"
          },
          "metadata": {
            "needs_background": "light"
          }
        }
      ]
    },
    {
      "cell_type": "markdown",
      "source": [
        "# Splitting the Dataset"
      ],
      "metadata": {
        "id": "4LkeIwngqCM_"
      }
    },
    {
      "cell_type": "markdown",
      "source": [
        "In machine learning, we typically need to split our dataset into train, validation, and test set. By spliting the dataset this way, we can use validation and test dataset to check if our model has overfitted the training data, meaning the model is memorizing the data instead of learning interesting pattern that can be generalized.\n",
        "\n",
        "We will only split our data into train and test for simplicity in this example. In our example dataset of cats vs dogs, the developers of the dataset were kind enough to split the dataset for us. That is usually not the case, and if so, a good rule of thumb is to split of 70/30 or 80/20. "
      ],
      "metadata": {
        "id": "cxQR8suXxEiH"
      }
    },
    {
      "cell_type": "code",
      "source": [
        "#dataset already split up in train vs test (75/25 split). Investigate the dog train/test breakdown below: \n",
        "\n",
        "!ls training_set/training_set/dogs/ | wc -l #the nr of samples in the train dataset for dogs\n",
        "!ls test_set/test_set/dogs/ | wc -l #the nr of samples in the test dataset for dogs"
      ],
      "metadata": {
        "colab": {
          "base_uri": "https://localhost:8080/"
        },
        "id": "PdwY9_UaM5QY",
        "outputId": "711f9e11-4d58-4264-ecef-479c8b195c69"
      },
      "execution_count": null,
      "outputs": [
        {
          "output_type": "stream",
          "name": "stdout",
          "text": [
            "4006\n",
            "1013\n"
          ]
        }
      ]
    },
    {
      "cell_type": "code",
      "source": [
        "#dataset already split up in train vs test (75/25 split). Investigate the cat train/test breakdown below: \n",
        "\n",
        "!ls training_set/training_set/cats/ | wc -l #the nr of samples in the train dataset for cats\n",
        "!ls test_set/test_set/cats/ | wc -l #the nr of samples in the test dataset for cats"
      ],
      "metadata": {
        "colab": {
          "base_uri": "https://localhost:8080/"
        },
        "id": "-HTthWYKXjmb",
        "outputId": "3a7f2b60-bcf5-408b-a739-7d34092d48ed"
      },
      "execution_count": null,
      "outputs": [
        {
          "output_type": "stream",
          "name": "stdout",
          "text": [
            "4001\n",
            "1012\n"
          ]
        }
      ]
    },
    {
      "cell_type": "markdown",
      "metadata": {
        "id": "8R1SgnPkkSUQ"
      },
      "source": [
        "#Setup PyTorch Dataset\n",
        "Dataset is a helper module in PyTorch that loads raw data and convert it to tensors that can be consumed by PyTorch"
      ]
    },
    {
      "cell_type": "code",
      "metadata": {
        "id": "_dxQkvtCwJCT"
      },
      "source": [
        "import os\n",
        "\n",
        "center_crop_size = 224 #@param {\"type\": \"integer\"}\n",
        "\n",
        "traindir = os.path.join('training_set', 'training_set') # define our training data path\n",
        "valdir = os.path.join('test_set', 'test_set') # define our validation data path\n",
        "# ImageNet mean and std. The reason we use ImageNet mean and std here is because we might want to use ImageNet pretrained network later.\n",
        "normalize = transforms.Normalize(mean=[0.485, 0.456, 0.406],\n",
        "                                 std=[0.229, 0.224, 0.225]) \n",
        "\n",
        "train_dataset = datasets.ImageFolder(\n",
        "    traindir,\n",
        "    transforms.Compose([ # transform is for data preprocessing and augmentation. It helps alleviate overfiting. meaning the model works well on traning but not on validation and test.\n",
        "        transforms.RandomResizedCrop(224), # crop a random patch of the image and resize it to a given size\n",
        "        transforms.RandomHorizontalFlip(), # randomly mirror a image.\n",
        "        transforms.ToTensor(), # convert this to pytorch tensor\n",
        "        normalize, # normalize the tensor\n",
        "    ]))\n",
        "val_dataset = datasets.ImageFolder(\n",
        "    valdir, \n",
        "    transforms.Compose([\n",
        "        transforms.Resize(256), # for validation we don't need to do augmentation\n",
        "        transforms.CenterCrop(center_crop_size),\n",
        "        transforms.ToTensor(),\n",
        "        normalize, # make sure you normalize your data the same way as training.\n",
        "    ]))"
      ],
      "execution_count": null,
      "outputs": []
    },
    {
      "cell_type": "markdown",
      "metadata": {
        "id": "7wXvyz5puf11"
      },
      "source": [
        "# Data Augmentation\n",
        "Data augmentation is very import, since it prevent the model from overfitting. The model will train on slightly different images each time it goes throught them.\n",
        "\n",
        "Random Resized Crop illustration\n",
        "\n",
        "![](https://pytorch.org/vision/stable/_images/sphx_glr_plot_transforms_012.png)\n",
        "\n",
        "Random Flip illustration\n",
        "\n",
        "![](https://pytorch.org/vision/stable/_images/sphx_glr_plot_transforms_022.png)"
      ]
    },
    {
      "cell_type": "markdown",
      "source": [
        "Let's check the size of our dataset."
      ],
      "metadata": {
        "id": "g3ym4w2l-gR1"
      }
    },
    {
      "cell_type": "code",
      "metadata": {
        "colab": {
          "base_uri": "https://localhost:8080/"
        },
        "id": "AjCw_2n_icA3",
        "outputId": "474cbcba-e6cf-4dc3-840f-4efe58ebea43"
      },
      "source": [
        "print('Train dataset size')\n",
        "print(type(train_dataset)) # let's check the type of our dataset\n",
        "print(len(train_dataset)) # let's check how large is our dataset.\n",
        "\n",
        "#note val_dataset is the same as a test dataset\n",
        "print(\"Test dataset size\")\n",
        "print(type(val_dataset)) # let's check the type of our dataset\n",
        "print(len(val_dataset)) # let's check how large is our dataset."
      ],
      "execution_count": null,
      "outputs": [
        {
          "output_type": "stream",
          "name": "stdout",
          "text": [
            "Train dataset size\n",
            "<class 'torchvision.datasets.folder.ImageFolder'>\n",
            "8005\n",
            "Test dataset size\n",
            "<class 'torchvision.datasets.folder.ImageFolder'>\n",
            "2023\n"
          ]
        }
      ]
    },
    {
      "cell_type": "markdown",
      "metadata": {
        "id": "U4Ghx-rDySVz"
      },
      "source": [
        "# Dataloader\n",
        "Setup PyTorch Dataloader. Training a model with one sample at a time is possibile but is does not utilize our GPU very efficiently as most of the time will be spent on transfering data from CPU and GPU. We want to leverage the massive parallel processing capabilites. Usually we try to maxout the GPU memory when we batch our training samples to achieve the highest efficiency."
      ]
    },
    {
      "cell_type": "code",
      "metadata": {
        "id": "mObgvzxIyUpp"
      },
      "source": [
        "batch_size = 64 #@param {\"type\": \"integer\"}\n",
        "num_workers = 2 #@param {\"type\": \"integer\"}\n",
        "shuffle = True #@param {\"type\": \"boolean\"}\n",
        "\n",
        "train_loader = torch.utils.data.DataLoader( # dataloader batchify individual training samples.\n",
        "        train_dataset, batch_size=batch_size, # set batchsize\n",
        "        shuffle=True, num_workers=num_workers, # shuffle our dataset makes the optimization more stable, and the final model generalize better. \n",
        "        # num_workers define how many worker will be assign for data preprocess\n",
        "        pin_memory=True)\n",
        "\n",
        "val_loader = torch.utils.data.DataLoader(\n",
        "    val_dataset,\n",
        "    batch_size=batch_size, shuffle=False,\n",
        "    num_workers=num_workers, pin_memory=True)"
      ],
      "execution_count": null,
      "outputs": []
    },
    {
      "cell_type": "code",
      "metadata": {
        "colab": {
          "base_uri": "https://localhost:8080/"
        },
        "id": "JCh-3wcOi7nF",
        "outputId": "e3e8e92e-6b0f-4739-bf9d-24f392ac7c2a"
      },
      "source": [
        "print(type(train_loader))\n",
        "print(len(train_loader)) # as we can see here the length of the loader is smaller after batching"
      ],
      "execution_count": null,
      "outputs": [
        {
          "output_type": "stream",
          "name": "stdout",
          "text": [
            "<class 'torch.utils.data.dataloader.DataLoader'>\n",
            "126\n"
          ]
        }
      ]
    },
    {
      "cell_type": "markdown",
      "source": [
        "# Model Performance Metrics"
      ],
      "metadata": {
        "id": "0s8KWXu7q9R3"
      }
    },
    {
      "cell_type": "markdown",
      "metadata": {
        "id": "YcR57X7383I_"
      },
      "source": [
        "Metrics. We use top 1 accuracy for this class. The simplest merics. This is from PyTorch examples.\n"
      ]
    },
    {
      "cell_type": "code",
      "metadata": {
        "id": "YpQqP6dh86yo"
      },
      "source": [
        "def accuracy(output, target, topk=(1,)):\n",
        "    \"\"\"Computes the accuracy over the k top predictions for the specified values of k\"\"\"\n",
        "    with torch.no_grad():\n",
        "        maxk = max(topk)\n",
        "        batch_size = target.size(0)\n",
        "\n",
        "        _, pred = output.topk(maxk, 1, True, True)\n",
        "        pred = pred.t()\n",
        "        correct = pred.eq(target.view(1, -1).expand_as(pred))\n",
        "\n",
        "        res = []\n",
        "        for k in topk:\n",
        "            correct_k = correct[:k].reshape(-1).float().sum(0, keepdim=True)\n",
        "            res.append(correct_k.mul_(100.0 / batch_size))\n",
        "        return res\n",
        "\n",
        "class AverageMeter(object):\n",
        "    \"\"\"Computes and stores the average and current value\"\"\"\n",
        "    def __init__(self, name, fmt=':f'):\n",
        "        self.name = name\n",
        "        self.fmt = fmt\n",
        "        self.reset()\n",
        "\n",
        "    def reset(self):\n",
        "        self.val = 0\n",
        "        self.avg = 0\n",
        "        self.sum = 0\n",
        "        self.count = 0\n",
        "\n",
        "    def update(self, val, n=1):\n",
        "        self.val = val\n",
        "        self.sum += val * n\n",
        "        self.count += n\n",
        "        self.avg = self.sum / self.count\n",
        "\n",
        "    def __str__(self):\n",
        "        fmtstr = '{name} {val' + self.fmt + '} ({avg' + self.fmt + '})'\n",
        "        return fmtstr.format(**self.__dict__)\n",
        "\n",
        "class ProgressMeter(object):\n",
        "    def __init__(self, num_batches, meters, prefix=\"\"):\n",
        "        self.batch_fmtstr = self._get_batch_fmtstr(num_batches)\n",
        "        self.meters = meters\n",
        "        self.prefix = prefix\n",
        "\n",
        "    def display(self, batch):\n",
        "        entries = [self.prefix + self.batch_fmtstr.format(batch)]\n",
        "        entries += [str(meter) for meter in self.meters]\n",
        "        print('\\t'.join(entries))\n",
        "        \n",
        "    def display_summary(self):\n",
        "        entries = [\" *\"]\n",
        "        entries += [meter.summary() for meter in self.meters]\n",
        "        print(' '.join(entries))\n",
        "\n",
        "    def _get_batch_fmtstr(self, num_batches):\n",
        "        num_digits = len(str(num_batches // 1))\n",
        "        fmt = '{:' + str(num_digits) + 'd}'\n",
        "        return '[' + fmt + '/' + fmt.format(num_batches) + ']'"
      ],
      "execution_count": null,
      "outputs": []
    },
    {
      "cell_type": "markdown",
      "metadata": {
        "id": "mIfx2B9D9jUM"
      },
      "source": [
        "# MobileNet V3\n",
        "Import MobileNet V3 small. MobileNet V3 is a model produced by nerual architecture search in 2019. It produces superior accuracy with less computation.\n",
        "\n",
        "https://arxiv.org/abs/1905.02244\n",
        "\n",
        "\n",
        "The default MobileNet V3 won't work in SnapML due to unsuported operators. HardSigmoid and HardSwish are not supported in SnapML.\n",
        "\n",
        "In the code below you will see a function that swaps up the unspported operators with supported ones. In this case, hardsigmoid is replaced with sigmoid, and hardswish with relu."
      ]
    },
    {
      "cell_type": "code",
      "metadata": {
        "id": "LMS1cUaBHlSa"
      },
      "source": [
        "pretrained = False #@param {\"type\": \"boolean\"}\n",
        "model = torchvision.models.mobilenet_v3_small(pretrained=pretrained).cuda(0) # we will try no pretrained first.\n",
        "# remove operators that are not supported by SnapML\n",
        "def replace_hardsigmoid(model):\n",
        "    for name, module in reversed(model._modules.items()):\n",
        "        if isinstance(module, nn.Hardsigmoid):\n",
        "            model._modules[name] = nn.Sigmoid()\n",
        "        if len(list(module.children())) > 0:\n",
        "            model._modules[name] = replace_hardsigmoid(model=module)\n",
        "    return model\n",
        "def replace_hardswish_with_relu(model):\n",
        "    for name, module in reversed(model._modules.items()):\n",
        "        if len(list(module.children())) > 0:\n",
        "            model._modules[name] = replace_hardswish_with_relu(model=module)\n",
        "        if isinstance(module, nn.Hardswish):\n",
        "            model._modules[name] = nn.ReLU(True)\n",
        "    return model\n",
        "model = replace_hardswish_with_relu(model)\n",
        "model = replace_hardsigmoid(model)"
      ],
      "execution_count": null,
      "outputs": []
    },
    {
      "cell_type": "markdown",
      "metadata": {
        "id": "9qRwWlZP2F0V"
      },
      "source": [
        "The default MobileNet V3 is designed for ImageNet, which has 1000 classes. However, we only need to predict 2 classes for now, hence we swap the last layer with a new nn.Linear layer with out_features of 2.\n",
        "\n",
        "We also need to change Dropout layer's inplace flag to False, as we have changed hardswish with relu in the previous blocks. Two consequtive inplace operators is not allowed in PyTorch."
      ]
    },
    {
      "cell_type": "code",
      "metadata": {
        "colab": {
          "base_uri": "https://localhost:8080/"
        },
        "id": "tvBWa3qvjLP-",
        "outputId": "6c59080f-82c1-4d63-9612-4a20846e82d1"
      },
      "source": [
        "out_features = 2 #@param {\"type\": \"integer\"}\n",
        "print('old', model.classifier)\n",
        "model.classifier[3] = nn.Linear(in_features=1024, out_features=out_features, bias=True).cuda(0)\n",
        "model.classifier[2] = nn.Dropout(p=0.2, inplace=False).cuda(0)\n",
        "print('new', model.classifier)"
      ],
      "execution_count": null,
      "outputs": [
        {
          "output_type": "stream",
          "name": "stdout",
          "text": [
            "old Sequential(\n",
            "  (0): Linear(in_features=576, out_features=1024, bias=True)\n",
            "  (1): ReLU(inplace=True)\n",
            "  (2): Dropout(p=0.2, inplace=True)\n",
            "  (3): Linear(in_features=1024, out_features=1000, bias=True)\n",
            ")\n",
            "new Sequential(\n",
            "  (0): Linear(in_features=576, out_features=1024, bias=True)\n",
            "  (1): ReLU(inplace=True)\n",
            "  (2): Dropout(p=0.2, inplace=False)\n",
            "  (3): Linear(in_features=1024, out_features=2, bias=True)\n",
            ")\n"
          ]
        }
      ]
    },
    {
      "cell_type": "markdown",
      "source": [
        "Even thought we have swapped some modules in our MobileNet V3, we will still be able to train our network to satisfactory accuracy."
      ],
      "metadata": {
        "id": "qrJs6uImIQ5V"
      }
    },
    {
      "cell_type": "markdown",
      "metadata": {
        "id": "tmEL3XO4_fx7"
      },
      "source": [
        "# Loss Function\n",
        "\n",
        "Loss function/Objective function/Criterion is the function we want to minimize. For this tutorial we will skip the detail of loss function. If you want to know more feel free to reference https://en.wikipedia.org/wiki/Cross_entropy"
      ]
    },
    {
      "cell_type": "code",
      "metadata": {
        "id": "ccUQ6bwY_g0k"
      },
      "source": [
        "criterion = nn.CrossEntropyLoss().cuda(0)"
      ],
      "execution_count": null,
      "outputs": []
    },
    {
      "cell_type": "markdown",
      "metadata": {
        "id": "JB3AD0uN_sgJ"
      },
      "source": [
        "# Optimizer\n",
        "\n",
        "Optimizer, used for optimize our model's parameters by minimizing loss function. We will use stochastic gradient descent with momentum (SGD) for this tutorial. For SGD, Learning rate is how far each step you step. Weigth decay is the penalty term for large weights. For most computer vision tasks, 1e-4 to 1e-5 works well. Starts with larger learning rate will generalize better usually, as long as it does not diverge (getting NaN during training). If initial learning rate is too small, it often leads to overfitting/local minimum."
      ]
    },
    {
      "cell_type": "code",
      "metadata": {
        "id": "JTAyljVa_tlA"
      },
      "source": [
        "learning_rate = 0.02 #@param {\"type\": \"number\"}\n",
        "weight_decay = 1e-4 #@param {\"type\": \"number\"}\n",
        "optimizer = torch.optim.SGD(model.parameters(), lr=learning_rate,\n",
        "                            momentum=0.9, weight_decay=weight_decay) # generalize better usually."
      ],
      "execution_count": null,
      "outputs": []
    },
    {
      "cell_type": "markdown",
      "metadata": {
        "id": "HzHpfF6JDxq5"
      },
      "source": [
        "# Checkpointing\n",
        "\n",
        "Saving model in case your machine failed during training. You can resume training from checkpoint."
      ]
    },
    {
      "cell_type": "code",
      "metadata": {
        "id": "jeSIGZAQD0RO"
      },
      "source": [
        "import shutil\n",
        "def save_checkpoint(state, is_best, filename='checkpoint.pth.tar'):\n",
        "    torch.save(state, filename)\n",
        "    if is_best:\n",
        "        shutil.copyfile(filename, 'model_best.pth.tar')"
      ],
      "execution_count": null,
      "outputs": []
    },
    {
      "cell_type": "markdown",
      "metadata": {
        "id": "-kb9KlGFLYft"
      },
      "source": [
        "# Define our validation loop\n",
        "Validation loop will check the model's performance on unseen data. If the validation accuracy starts to decrease as we train, it might indicate that our model is overfitting."
      ]
    },
    {
      "cell_type": "code",
      "metadata": {
        "id": "nvPiPHImLXYx"
      },
      "source": [
        "print_freq = 20 #@param {\"type\": \"integer\"}\n",
        "def validate(val_loader, model, criterion):\n",
        "    batch_time = AverageMeter('Time', ':6.3f')\n",
        "    losses = AverageMeter('Loss', ':.4e')\n",
        "    top1 = AverageMeter('Acc@1', ':6.2f')\n",
        "    progress = ProgressMeter(\n",
        "        len(val_loader),\n",
        "        [batch_time, losses, top1],\n",
        "        prefix='Test: ')\n",
        "\n",
        "    # switch to evaluate mode. This is important! batchnorm and dropout \n",
        "    # won't work otherwise.\n",
        "    model.eval()\n",
        "\n",
        "    with torch.no_grad():\n",
        "        end = time.time()\n",
        "        for i, (images, target) in enumerate(val_loader):\n",
        "            images = images.cuda(0, non_blocking=True)\n",
        "            target = target.cuda(0, non_blocking=True)\n",
        "\n",
        "            # compute output\n",
        "            output = model(images)\n",
        "            loss = criterion(output, target)\n",
        "\n",
        "            # measure accuracy and record loss\n",
        "            acc1 = accuracy(output, target, topk=(1,))\n",
        "            losses.update(loss.item(), images.size(0))\n",
        "            top1.update(acc1[0].item(), images.size(0))\n",
        "\n",
        "            # measure elapsed time\n",
        "            batch_time.update(time.time() - end)\n",
        "            end = time.time()\n",
        "\n",
        "            if i % print_freq == 0:\n",
        "                progress.display(i)\n",
        "\n",
        "        # TODO: this should also be done with the ProgressMeter\n",
        "        print(' * Acc@1 {top1.avg:.3f}'.format(top1=top1))\n",
        "\n",
        "    return top1.avg"
      ],
      "execution_count": null,
      "outputs": []
    },
    {
      "cell_type": "markdown",
      "metadata": {
        "id": "bbbe6o9LLfd3"
      },
      "source": [
        "# Define training loop\n"
      ]
    },
    {
      "cell_type": "code",
      "metadata": {
        "id": "CNsv-SUtLg8r"
      },
      "source": [
        "def train(train_loader, model, criterion, optimizer, lr_scheduler, epoch):\n",
        "    batch_time = AverageMeter('Time', ':6.3f')\n",
        "    data_time = AverageMeter('Data', ':6.3f')\n",
        "    losses = AverageMeter('Loss', ':.4e')\n",
        "    top1 = AverageMeter('Acc@1', ':6.2f')\n",
        "    progress = ProgressMeter(\n",
        "        len(train_loader),\n",
        "        [batch_time, data_time, losses, top1],\n",
        "        prefix=\"Epoch: [{}]\".format(epoch))\n",
        "\n",
        "    # switch to train mode.\n",
        "    model.train()\n",
        "\n",
        "    end = time.time()\n",
        "    print('LR: {:.5e}'.format(optimizer.param_groups[0]['lr']))\n",
        "    for i, (images, target) in enumerate(train_loader):\n",
        "        # measure data loading time\n",
        "        data_time.update(time.time() - end)\n",
        "        images = images.cuda(0, non_blocking=True)\n",
        "        target = target.cuda(0, non_blocking=True)\n",
        "\n",
        "        # compute output\n",
        "        output = model(images)\n",
        "        loss = criterion(output, target)\n",
        "\n",
        "        # measure accuracy and record loss\n",
        "        acc1 = accuracy(output, target, topk=(1,))\n",
        "        losses.update(loss.item(), images.size(0))\n",
        "        top1.update(acc1[0].item(), images.size(0))\n",
        "\n",
        "        # compute gradient and do SGD step\n",
        "        optimizer.zero_grad() # make sure zero grad each iteration, otherwise the gradient will accumulate.\n",
        "        loss.backward()\n",
        "        optimizer.step()\n",
        "        lr_scheduler.step() # change learning rate\n",
        "\n",
        "        # measure elapsed time\n",
        "        batch_time.update(time.time() - end)\n",
        "        end = time.time()\n",
        "\n",
        "        if i % print_freq == 0:\n",
        "            progress.display(i)\n"
      ],
      "execution_count": null,
      "outputs": []
    },
    {
      "cell_type": "markdown",
      "source": [
        "#Training"
      ],
      "metadata": {
        "id": "10-3R3dw1CBn"
      }
    },
    {
      "cell_type": "markdown",
      "metadata": {
        "id": "RzzDzYOvHylV"
      },
      "source": [
        "Training. (3 min for each step)\n",
        "1. try without ImageNet pretraining.\n",
        "2. try with ImageNet pretraining without changing learning rate\n",
        "\n"
      ]
    },
    {
      "cell_type": "code",
      "metadata": {
        "id": "Pp4IWTKnHzzl",
        "colab": {
          "base_uri": "https://localhost:8080/"
        },
        "outputId": "c3db1733-3afb-4a95-8fe3-53287318266a"
      },
      "source": [
        "from torch.optim import lr_scheduler\n",
        "\n",
        "def adjust_learning_rate(optimizer, epoch, lr):\n",
        "    \"\"\"Sets the learning rate to the initial LR decayed by 10 every 30 epochs\"\"\"\n",
        "    lr = lr * (0.1 ** (epoch // 5))\n",
        "    for param_group in optimizer.param_groups:\n",
        "        param_group['lr'] = lr\n",
        "\n",
        "# uncomment to use resnet18 here (optional):\n",
        "# model = torchvision.models.resnet18(pretrained=True)\n",
        "# model.fc = nn.Linear(in_features=512, out_features=6, bias=True)\n",
        "\n",
        "model = model.cuda(0)\n",
        "learning_rate = 0.02 #@param {\"type\": \"number\"}\n",
        "optimizer = torch.optim.SGD(model.parameters(), lr=learning_rate,\n",
        "                            momentum=0.9, weight_decay=1e-4) # generalize better usually.\n",
        "epochs = 10 #@param {\"type\": \"number\"}\n",
        "lr_scheduler = lr_scheduler.CosineAnnealingLR(optimizer, epochs * len(train_loader))\n",
        "best_acc1 = 0.0\n",
        "acc1 = validate(val_loader, model, criterion) # check untrained accuracy\n",
        "\n",
        "for epoch in range(0, epochs):\n",
        "    #adjust_learning_rate(optimizer, epoch, learning_rate)\n",
        "\n",
        "    # train for one epoch\n",
        "    train(train_loader, model, criterion, optimizer, lr_scheduler, epoch)\n",
        "\n",
        "    # evaluate on validation set\n",
        "    acc1 = validate(val_loader, model, criterion)\n",
        "\n",
        "    # remember best acc@1 and save checkpoint\n",
        "    is_best = acc1 > best_acc1\n",
        "    best_acc1 = max(acc1, best_acc1)\n",
        "    save_checkpoint({\n",
        "        'epoch': epoch + 1,\n",
        "        'arch': 'mobilenet_v3_small',\n",
        "        'state_dict': model.state_dict(),\n",
        "        'best_acc1': best_acc1,\n",
        "        'optimizer' : optimizer.state_dict(),\n",
        "    }, is_best)"
      ],
      "execution_count": null,
      "outputs": [
        {
          "output_type": "stream",
          "name": "stdout",
          "text": [
            "Test: [ 0/32]\tTime  1.558 ( 1.558)\tLoss 6.7084e-01 (6.7084e-01)\tAcc@1 100.00 (100.00)\n",
            "Test: [20/32]\tTime  0.229 ( 0.303)\tLoss 7.1597e-01 (6.8202e-01)\tAcc@1   0.00 ( 75.22)\n",
            " * Acc@1 49.975\n",
            "LR: 2.00000e-02\n",
            "Epoch: [0][  0/126]\tTime  0.914 ( 0.914)\tData  0.610 ( 0.610)\tLoss 6.9829e-01 (6.9829e-01)\tAcc@1  46.88 ( 46.88)\n",
            "Epoch: [0][ 20/126]\tTime  0.451 ( 0.285)\tData  0.383 ( 0.205)\tLoss 6.8854e-01 (6.8923e-01)\tAcc@1  56.25 ( 53.50)\n",
            "Epoch: [0][ 40/126]\tTime  0.481 ( 0.270)\tData  0.413 ( 0.198)\tLoss 6.6021e-01 (6.8408e-01)\tAcc@1  57.81 ( 55.64)\n",
            "Epoch: [0][ 60/126]\tTime  0.462 ( 0.264)\tData  0.397 ( 0.194)\tLoss 5.9579e-01 (6.7703e-01)\tAcc@1  71.88 ( 56.84)\n",
            "Epoch: [0][ 80/126]\tTime  0.455 ( 0.262)\tData  0.388 ( 0.194)\tLoss 6.6686e-01 (6.7480e-01)\tAcc@1  56.25 ( 56.96)\n",
            "Epoch: [0][100/126]\tTime  0.422 ( 0.260)\tData  0.369 ( 0.193)\tLoss 6.1861e-01 (6.6979e-01)\tAcc@1  67.19 ( 58.03)\n",
            "Epoch: [0][120/126]\tTime  0.372 ( 0.259)\tData  0.308 ( 0.192)\tLoss 6.4456e-01 (6.6698e-01)\tAcc@1  57.81 ( 58.87)\n",
            "Test: [ 0/32]\tTime  0.701 ( 0.701)\tLoss 5.7307e-01 (5.7307e-01)\tAcc@1 100.00 (100.00)\n",
            "Test: [20/32]\tTime  0.209 ( 0.292)\tLoss 8.2964e-01 (6.3664e-01)\tAcc@1   0.00 ( 75.22)\n",
            " * Acc@1 49.975\n",
            "LR: 1.95106e-02\n",
            "Epoch: [1][  0/126]\tTime  0.653 ( 0.653)\tData  0.561 ( 0.561)\tLoss 6.9884e-01 (6.9884e-01)\tAcc@1  57.81 ( 57.81)\n",
            "Epoch: [1][ 20/126]\tTime  0.362 ( 0.278)\tData  0.321 ( 0.210)\tLoss 6.4022e-01 (6.5624e-01)\tAcc@1  62.50 ( 61.98)\n",
            "Epoch: [1][ 40/126]\tTime  0.451 ( 0.264)\tData  0.370 ( 0.197)\tLoss 6.1389e-01 (6.4995e-01)\tAcc@1  64.06 ( 62.88)\n",
            "Epoch: [1][ 60/126]\tTime  0.388 ( 0.263)\tData  0.317 ( 0.198)\tLoss 6.6294e-01 (6.4512e-01)\tAcc@1  56.25 ( 63.40)\n",
            "Epoch: [1][ 80/126]\tTime  0.366 ( 0.259)\tData  0.297 ( 0.195)\tLoss 6.2523e-01 (6.4226e-01)\tAcc@1  64.06 ( 63.75)\n",
            "Epoch: [1][100/126]\tTime  0.285 ( 0.257)\tData  0.226 ( 0.193)\tLoss 5.8234e-01 (6.3783e-01)\tAcc@1  70.31 ( 64.03)\n",
            "Epoch: [1][120/126]\tTime  0.284 ( 0.257)\tData  0.222 ( 0.193)\tLoss 6.1577e-01 (6.3657e-01)\tAcc@1  68.75 ( 64.36)\n",
            "Test: [ 0/32]\tTime  0.676 ( 0.676)\tLoss 5.3879e-01 (5.3879e-01)\tAcc@1 100.00 (100.00)\n",
            "Test: [20/32]\tTime  0.138 ( 0.293)\tLoss 8.7549e-01 (6.2227e-01)\tAcc@1   0.00 ( 75.22)\n",
            " * Acc@1 49.975\n",
            "LR: 1.80902e-02\n",
            "Epoch: [2][  0/126]\tTime  0.684 ( 0.684)\tData  0.632 ( 0.632)\tLoss 5.9692e-01 (5.9692e-01)\tAcc@1  64.06 ( 64.06)\n",
            "Epoch: [2][ 20/126]\tTime  0.423 ( 0.283)\tData  0.365 ( 0.216)\tLoss 6.0351e-01 (6.1409e-01)\tAcc@1  75.00 ( 65.25)\n",
            "Epoch: [2][ 40/126]\tTime  0.466 ( 0.267)\tData  0.395 ( 0.202)\tLoss 5.8864e-01 (6.1376e-01)\tAcc@1  65.62 ( 66.39)\n",
            "Epoch: [2][ 60/126]\tTime  0.446 ( 0.262)\tData  0.365 ( 0.197)\tLoss 5.9376e-01 (6.1224e-01)\tAcc@1  67.19 ( 67.03)\n",
            "Epoch: [2][ 80/126]\tTime  0.101 ( 0.257)\tData  0.041 ( 0.193)\tLoss 5.9728e-01 (6.0857e-01)\tAcc@1  68.75 ( 67.26)\n",
            "Epoch: [2][100/126]\tTime  0.069 ( 0.259)\tData  0.005 ( 0.194)\tLoss 5.1151e-01 (6.0418e-01)\tAcc@1  73.44 ( 67.59)\n",
            "Epoch: [2][120/126]\tTime  0.051 ( 0.258)\tData  0.000 ( 0.194)\tLoss 5.8085e-01 (6.0288e-01)\tAcc@1  70.31 ( 67.68)\n",
            "Test: [ 0/32]\tTime  0.654 ( 0.654)\tLoss 3.9579e-01 (3.9579e-01)\tAcc@1 100.00 (100.00)\n",
            "Test: [20/32]\tTime  0.284 ( 0.289)\tLoss 1.1037e+00 (5.6867e-01)\tAcc@1   0.00 ( 75.22)\n",
            " * Acc@1 49.975\n",
            "LR: 1.58779e-02\n",
            "Epoch: [3][  0/126]\tTime  0.690 ( 0.690)\tData  0.608 ( 0.608)\tLoss 5.0620e-01 (5.0620e-01)\tAcc@1  73.44 ( 73.44)\n",
            "Epoch: [3][ 20/126]\tTime  0.459 ( 0.288)\tData  0.390 ( 0.218)\tLoss 4.9218e-01 (5.6392e-01)\tAcc@1  79.69 ( 71.95)\n",
            "Epoch: [3][ 40/126]\tTime  0.414 ( 0.269)\tData  0.350 ( 0.204)\tLoss 6.0665e-01 (5.8342e-01)\tAcc@1  68.75 ( 69.82)\n",
            "Epoch: [3][ 60/126]\tTime  0.453 ( 0.263)\tData  0.394 ( 0.198)\tLoss 5.6028e-01 (5.8322e-01)\tAcc@1  67.19 ( 69.26)\n",
            "Epoch: [3][ 80/126]\tTime  0.480 ( 0.260)\tData  0.389 ( 0.195)\tLoss 6.2003e-01 (5.8236e-01)\tAcc@1  67.19 ( 69.62)\n",
            "Epoch: [3][100/126]\tTime  0.449 ( 0.259)\tData  0.374 ( 0.194)\tLoss 5.0918e-01 (5.7952e-01)\tAcc@1  82.81 ( 69.89)\n",
            "Epoch: [3][120/126]\tTime  0.420 ( 0.259)\tData  0.345 ( 0.194)\tLoss 6.6800e-01 (5.7490e-01)\tAcc@1  59.38 ( 70.42)\n",
            "Test: [ 0/32]\tTime  0.683 ( 0.683)\tLoss 2.7933e-01 (2.7933e-01)\tAcc@1 100.00 (100.00)\n",
            "Test: [20/32]\tTime  0.385 ( 0.295)\tLoss 1.2470e+00 (5.2409e-01)\tAcc@1   4.69 ( 75.82)\n",
            " * Acc@1 51.607\n",
            "LR: 1.30902e-02\n",
            "Epoch: [4][  0/126]\tTime  0.647 ( 0.647)\tData  0.580 ( 0.580)\tLoss 5.1240e-01 (5.1240e-01)\tAcc@1  79.69 ( 79.69)\n",
            "Epoch: [4][ 20/126]\tTime  0.466 ( 0.282)\tData  0.404 ( 0.212)\tLoss 6.4963e-01 (5.7185e-01)\tAcc@1  59.38 ( 72.25)\n",
            "Epoch: [4][ 40/126]\tTime  0.418 ( 0.268)\tData  0.358 ( 0.201)\tLoss 6.3139e-01 (5.7271e-01)\tAcc@1  60.94 ( 71.07)\n",
            "Epoch: [4][ 60/126]\tTime  0.418 ( 0.264)\tData  0.356 ( 0.199)\tLoss 5.1042e-01 (5.7123e-01)\tAcc@1  76.56 ( 70.95)\n",
            "Epoch: [4][ 80/126]\tTime  0.475 ( 0.262)\tData  0.396 ( 0.196)\tLoss 5.4346e-01 (5.7327e-01)\tAcc@1  79.69 ( 70.87)\n",
            "Epoch: [4][100/126]\tTime  0.455 ( 0.261)\tData  0.378 ( 0.195)\tLoss 5.2257e-01 (5.7126e-01)\tAcc@1  73.44 ( 71.01)\n",
            "Epoch: [4][120/126]\tTime  0.382 ( 0.259)\tData  0.340 ( 0.194)\tLoss 6.5325e-01 (5.7203e-01)\tAcc@1  62.50 ( 70.65)\n",
            "Test: [ 0/32]\tTime  0.719 ( 0.719)\tLoss 3.6967e-01 (3.6967e-01)\tAcc@1  90.62 ( 90.62)\n",
            "Test: [20/32]\tTime  0.408 ( 0.297)\tLoss 7.0701e-01 (4.5556e-01)\tAcc@1  54.69 ( 81.03)\n",
            " * Acc@1 69.797\n",
            "LR: 1.00000e-02\n",
            "Epoch: [5][  0/126]\tTime  0.701 ( 0.701)\tData  0.607 ( 0.607)\tLoss 5.6249e-01 (5.6249e-01)\tAcc@1  67.19 ( 67.19)\n",
            "Epoch: [5][ 20/126]\tTime  0.079 ( 0.264)\tData  0.010 ( 0.198)\tLoss 5.1496e-01 (5.4524e-01)\tAcc@1  71.88 ( 70.83)\n",
            "Epoch: [5][ 40/126]\tTime  0.065 ( 0.261)\tData  0.002 ( 0.196)\tLoss 5.7435e-01 (5.4536e-01)\tAcc@1  67.19 ( 71.61)\n",
            "Epoch: [5][ 60/126]\tTime  0.070 ( 0.261)\tData  0.000 ( 0.197)\tLoss 5.7438e-01 (5.4171e-01)\tAcc@1  73.44 ( 72.00)\n",
            "Epoch: [5][ 80/126]\tTime  0.071 ( 0.258)\tData  0.000 ( 0.195)\tLoss 5.3622e-01 (5.4224e-01)\tAcc@1  76.56 ( 72.26)\n",
            "Epoch: [5][100/126]\tTime  0.076 ( 0.258)\tData  0.000 ( 0.195)\tLoss 4.8668e-01 (5.3500e-01)\tAcc@1  76.56 ( 72.96)\n",
            "Epoch: [5][120/126]\tTime  0.064 ( 0.258)\tData  0.000 ( 0.195)\tLoss 5.4178e-01 (5.3037e-01)\tAcc@1  73.44 ( 73.27)\n",
            "Test: [ 0/32]\tTime  0.708 ( 0.708)\tLoss 4.9142e-01 (4.9142e-01)\tAcc@1  73.44 ( 73.44)\n",
            "Test: [20/32]\tTime  0.083 ( 0.290)\tLoss 4.6002e-01 (4.8143e-01)\tAcc@1  75.00 ( 76.49)\n",
            " * Acc@1 76.026\n",
            "LR: 6.90983e-03\n",
            "Epoch: [6][  0/126]\tTime  0.657 ( 0.657)\tData  0.599 ( 0.599)\tLoss 5.3549e-01 (5.3549e-01)\tAcc@1  73.44 ( 73.44)\n",
            "Epoch: [6][ 20/126]\tTime  0.270 ( 0.268)\tData  0.209 ( 0.202)\tLoss 5.5652e-01 (5.0014e-01)\tAcc@1  73.44 ( 75.97)\n",
            "Epoch: [6][ 40/126]\tTime  0.378 ( 0.262)\tData  0.310 ( 0.198)\tLoss 5.6595e-01 (5.1360e-01)\tAcc@1  70.31 ( 75.19)\n",
            "Epoch: [6][ 60/126]\tTime  0.454 ( 0.261)\tData  0.389 ( 0.199)\tLoss 4.8631e-01 (5.1738e-01)\tAcc@1  76.56 ( 74.90)\n",
            "Epoch: [6][ 80/126]\tTime  0.507 ( 0.260)\tData  0.429 ( 0.198)\tLoss 4.6440e-01 (5.1470e-01)\tAcc@1  73.44 ( 74.63)\n",
            "Epoch: [6][100/126]\tTime  0.422 ( 0.261)\tData  0.355 ( 0.198)\tLoss 4.6017e-01 (5.1552e-01)\tAcc@1  75.00 ( 74.60)\n",
            "Epoch: [6][120/126]\tTime  0.432 ( 0.261)\tData  0.379 ( 0.197)\tLoss 5.2760e-01 (5.1373e-01)\tAcc@1  71.88 ( 74.60)\n",
            "Test: [ 0/32]\tTime  0.661 ( 0.661)\tLoss 5.4324e-01 (5.4324e-01)\tAcc@1  67.19 ( 67.19)\n",
            "Test: [20/32]\tTime  0.367 ( 0.297)\tLoss 3.7529e-01 (5.2156e-01)\tAcc@1  87.50 ( 71.73)\n",
            " * Acc@1 77.855\n",
            "LR: 4.12215e-03\n",
            "Epoch: [7][  0/126]\tTime  0.685 ( 0.685)\tData  0.618 ( 0.618)\tLoss 4.8741e-01 (4.8741e-01)\tAcc@1  76.56 ( 76.56)\n",
            "Epoch: [7][ 20/126]\tTime  0.448 ( 0.274)\tData  0.384 ( 0.210)\tLoss 3.9091e-01 (4.7290e-01)\tAcc@1  82.81 ( 77.90)\n",
            "Epoch: [7][ 40/126]\tTime  0.488 ( 0.265)\tData  0.446 ( 0.200)\tLoss 5.9954e-01 (4.9740e-01)\tAcc@1  68.75 ( 75.69)\n",
            "Epoch: [7][ 60/126]\tTime  0.437 ( 0.263)\tData  0.384 ( 0.199)\tLoss 4.9848e-01 (5.0220e-01)\tAcc@1  78.12 ( 75.20)\n",
            "Epoch: [7][ 80/126]\tTime  0.454 ( 0.263)\tData  0.388 ( 0.199)\tLoss 5.1317e-01 (4.9806e-01)\tAcc@1  73.44 ( 75.52)\n",
            "Epoch: [7][100/126]\tTime  0.416 ( 0.261)\tData  0.362 ( 0.197)\tLoss 4.7617e-01 (4.9954e-01)\tAcc@1  73.44 ( 75.51)\n",
            "Epoch: [7][120/126]\tTime  0.455 ( 0.259)\tData  0.385 ( 0.195)\tLoss 4.5305e-01 (4.9714e-01)\tAcc@1  73.44 ( 75.65)\n",
            "Test: [ 0/32]\tTime  0.741 ( 0.741)\tLoss 4.3580e-01 (4.3580e-01)\tAcc@1  82.81 ( 82.81)\n",
            "Test: [20/32]\tTime  0.555 ( 0.302)\tLoss 4.2851e-01 (4.2155e-01)\tAcc@1  76.56 ( 80.95)\n",
            " * Acc@1 80.722\n",
            "LR: 1.90983e-03\n",
            "Epoch: [8][  0/126]\tTime  0.700 ( 0.700)\tData  0.641 ( 0.641)\tLoss 5.8623e-01 (5.8623e-01)\tAcc@1  68.75 ( 68.75)\n",
            "Epoch: [8][ 20/126]\tTime  0.340 ( 0.268)\tData  0.298 ( 0.202)\tLoss 4.9272e-01 (5.0976e-01)\tAcc@1  76.56 ( 74.78)\n",
            "Epoch: [8][ 40/126]\tTime  0.162 ( 0.260)\tData  0.092 ( 0.196)\tLoss 5.3453e-01 (4.9199e-01)\tAcc@1  78.12 ( 76.64)\n",
            "Epoch: [8][ 60/126]\tTime  0.435 ( 0.261)\tData  0.349 ( 0.195)\tLoss 5.4979e-01 (4.8950e-01)\tAcc@1  76.56 ( 76.59)\n",
            "Epoch: [8][ 80/126]\tTime  0.434 ( 0.259)\tData  0.372 ( 0.194)\tLoss 4.6290e-01 (4.7948e-01)\tAcc@1  71.88 ( 76.79)\n",
            "Epoch: [8][100/126]\tTime  0.397 ( 0.258)\tData  0.334 ( 0.193)\tLoss 4.0365e-01 (4.7609e-01)\tAcc@1  81.25 ( 77.32)\n",
            "Epoch: [8][120/126]\tTime  0.389 ( 0.257)\tData  0.337 ( 0.192)\tLoss 4.7250e-01 (4.7773e-01)\tAcc@1  82.81 ( 77.07)\n",
            "Test: [ 0/32]\tTime  0.706 ( 0.706)\tLoss 4.2434e-01 (4.2434e-01)\tAcc@1  79.69 ( 79.69)\n",
            "Test: [20/32]\tTime  0.557 ( 0.302)\tLoss 4.0225e-01 (4.2059e-01)\tAcc@1  78.12 ( 81.03)\n",
            " * Acc@1 81.710\n",
            "LR: 4.89435e-04\n",
            "Epoch: [9][  0/126]\tTime  0.682 ( 0.682)\tData  0.577 ( 0.577)\tLoss 4.5140e-01 (4.5140e-01)\tAcc@1  79.69 ( 79.69)\n",
            "Epoch: [9][ 20/126]\tTime  0.444 ( 0.278)\tData  0.362 ( 0.207)\tLoss 4.3905e-01 (4.8879e-01)\tAcc@1  82.81 ( 76.71)\n",
            "Epoch: [9][ 40/126]\tTime  0.444 ( 0.265)\tData  0.361 ( 0.198)\tLoss 5.8888e-01 (4.8203e-01)\tAcc@1  71.88 ( 76.75)\n",
            "Epoch: [9][ 60/126]\tTime  0.403 ( 0.261)\tData  0.338 ( 0.193)\tLoss 4.6700e-01 (4.7934e-01)\tAcc@1  76.56 ( 76.84)\n",
            "Epoch: [9][ 80/126]\tTime  0.425 ( 0.261)\tData  0.369 ( 0.194)\tLoss 4.5988e-01 (4.8236e-01)\tAcc@1  78.12 ( 76.72)\n",
            "Epoch: [9][100/126]\tTime  0.446 ( 0.259)\tData  0.370 ( 0.192)\tLoss 5.1559e-01 (4.8191e-01)\tAcc@1  75.00 ( 76.93)\n",
            "Epoch: [9][120/126]\tTime  0.481 ( 0.259)\tData  0.416 ( 0.193)\tLoss 4.3225e-01 (4.7660e-01)\tAcc@1  71.88 ( 77.13)\n",
            "Test: [ 0/32]\tTime  0.706 ( 0.706)\tLoss 4.6844e-01 (4.6844e-01)\tAcc@1  75.00 ( 75.00)\n",
            "Test: [20/32]\tTime  0.425 ( 0.293)\tLoss 3.5993e-01 (4.3130e-01)\tAcc@1  82.81 ( 80.65)\n",
            " * Acc@1 82.402\n"
          ]
        }
      ]
    },
    {
      "cell_type": "code",
      "source": [
        "from torch.optim import lr_scheduler\n",
        "\n",
        "def adjust_learning_rate(optimizer, epoch, lr):\n",
        "    \"\"\"Sets the learning rate to the initial LR decayed by 10 every 30 epochs\"\"\"\n",
        "    lr = lr * (0.1 ** (epoch // 5))\n",
        "    for param_group in optimizer.param_groups:\n",
        "        param_group['lr'] = lr\n",
        "\n",
        "# Let's try ImageNet pretrained weights.\n",
        "model = torchvision.models.mobilenet_v3_small(pretrained=True).cuda(0)\n",
        "model = replace_hardsigmoid(model)\n",
        "model = replace_hardswish_with_relu(model)\n",
        "model.classifier[3] = nn.Linear(in_features=1024, out_features=2, bias=True).cuda(0)\n",
        "model.classifier[2] = nn.Dropout(p=0.2, inplace=False).cuda(0)\n",
        "\n",
        "# uncomment to use resnet18 here (optional):\n",
        "# model = torchvision.models.resnet18(pretrained=True)\n",
        "# model.fc = nn.Linear(in_features=512, out_features=7, bias=True)\n",
        "\n",
        "model = model.cuda(0)\n",
        "learning_rate = 0.02 #@param {\"type\": \"number\"}\n",
        "optimizer = torch.optim.SGD(model.parameters(), lr=learning_rate,\n",
        "                            momentum=0.9, weight_decay=1e-4) # generalize better usually.\n",
        "epochs = 10 #@param {\"type\": \"number\"}\n",
        "lr_scheduler = lr_scheduler.CosineAnnealingLR(optimizer, epochs * len(train_loader))\n",
        "best_acc1 = 0.0\n",
        "acc1 = validate(val_loader, model, criterion) # check untrained accuracy\n",
        "\n",
        "for epoch in range(0, epochs):\n",
        "    #adjust_learning_rate(optimizer, epoch, learning_rate)\n",
        "\n",
        "    # train for one epoch\n",
        "    train(train_loader, model, criterion, optimizer, lr_scheduler, epoch)\n",
        "\n",
        "    # evaluate on validation set\n",
        "    acc1 = validate(val_loader, model, criterion)\n",
        "\n",
        "    # remember best acc@1 and save checkpoint\n",
        "    is_best = acc1 > best_acc1\n",
        "    best_acc1 = max(acc1, best_acc1)\n",
        "    save_checkpoint({\n",
        "        'epoch': epoch + 1,\n",
        "        'arch': 'mobilenet_v3_small',\n",
        "        'state_dict': model.state_dict(),\n",
        "        'best_acc1': best_acc1,\n",
        "        'optimizer' : optimizer.state_dict(),\n",
        "    }, is_best)"
      ],
      "metadata": {
        "colab": {
          "base_uri": "https://localhost:8080/",
          "height": 1000,
          "referenced_widgets": [
            "ed59d75ac5654282b7432823f1db1cfa",
            "14994bec7fe2478cad4170ef646e5d2b",
            "aaea3acb50b949428069db68a7db7c0f",
            "6b396586212845fbb0dd943a5c5309ff",
            "23270e508e9348c7b78cff62c581b664",
            "a9d6769296d04ea3bb8beacbfd65ef07",
            "68d79fd2f89c47d9a635012f632cd27c",
            "8ad732f98d0a4c33a9c7afc34735deee",
            "da6c0ca513a74d50b620da1cc142228e",
            "081953c309b143409b94fb426022b0ff",
            "aaf0160f4d3e430ea797553c3443f287"
          ]
        },
        "id": "uYw4lvQOk3-1",
        "outputId": "c61fc22b-1ed8-4d48-a806-ab210ee2f42a"
      },
      "execution_count": null,
      "outputs": [
        {
          "output_type": "stream",
          "name": "stderr",
          "text": [
            "Downloading: \"https://download.pytorch.org/models/mobilenet_v3_small-047dcff4.pth\" to /root/.cache/torch/hub/checkpoints/mobilenet_v3_small-047dcff4.pth\n"
          ]
        },
        {
          "output_type": "display_data",
          "data": {
            "text/plain": [
              "  0%|          | 0.00/9.83M [00:00<?, ?B/s]"
            ],
            "application/vnd.jupyter.widget-view+json": {
              "version_major": 2,
              "version_minor": 0,
              "model_id": "ed59d75ac5654282b7432823f1db1cfa"
            }
          },
          "metadata": {}
        },
        {
          "output_type": "stream",
          "name": "stdout",
          "text": [
            "Test: [ 0/32]\tTime  0.681 ( 0.681)\tLoss 6.0036e-01 (6.0036e-01)\tAcc@1 100.00 (100.00)\n",
            "Test: [20/32]\tTime  0.468 ( 0.299)\tLoss 8.0463e-01 (6.4837e-01)\tAcc@1   0.00 ( 75.22)\n",
            " * Acc@1 49.975\n",
            "LR: 2.00000e-02\n",
            "Epoch: [0][  0/126]\tTime  0.712 ( 0.712)\tData  0.663 ( 0.663)\tLoss 6.9888e-01 (6.9888e-01)\tAcc@1  51.56 ( 51.56)\n",
            "Epoch: [0][ 20/126]\tTime  0.490 ( 0.281)\tData  0.411 ( 0.212)\tLoss 4.5065e-01 (5.4878e-01)\tAcc@1  79.69 ( 71.35)\n",
            "Epoch: [0][ 40/126]\tTime  0.256 ( 0.267)\tData  0.169 ( 0.201)\tLoss 4.6828e-01 (4.9295e-01)\tAcc@1  76.56 ( 75.53)\n",
            "Epoch: [0][ 60/126]\tTime  0.175 ( 0.263)\tData  0.116 ( 0.197)\tLoss 4.5918e-01 (4.5619e-01)\tAcc@1  81.25 ( 78.15)\n",
            "Epoch: [0][ 80/126]\tTime  0.237 ( 0.262)\tData  0.171 ( 0.197)\tLoss 4.6282e-01 (4.4616e-01)\tAcc@1  81.25 ( 79.11)\n",
            "Epoch: [0][100/126]\tTime  0.200 ( 0.260)\tData  0.138 ( 0.194)\tLoss 2.2127e-01 (4.2040e-01)\tAcc@1  92.19 ( 80.28)\n",
            "Epoch: [0][120/126]\tTime  0.278 ( 0.259)\tData  0.226 ( 0.194)\tLoss 2.2257e-01 (4.0238e-01)\tAcc@1  93.75 ( 81.35)\n",
            "Test: [ 0/32]\tTime  0.677 ( 0.677)\tLoss 8.8214e-01 (8.8214e-01)\tAcc@1  39.06 ( 39.06)\n",
            "Test: [20/32]\tTime  0.518 ( 0.302)\tLoss 3.8019e-01 (6.8033e-01)\tAcc@1  84.38 ( 58.26)\n",
            " * Acc@1 68.364\n",
            "LR: 1.95106e-02\n",
            "Epoch: [1][  0/126]\tTime  0.705 ( 0.705)\tData  0.589 ( 0.589)\tLoss 3.0188e-01 (3.0188e-01)\tAcc@1  89.06 ( 89.06)\n",
            "Epoch: [1][ 20/126]\tTime  0.187 ( 0.267)\tData  0.117 ( 0.203)\tLoss 2.3166e-01 (2.8048e-01)\tAcc@1  87.50 ( 87.35)\n",
            "Epoch: [1][ 40/126]\tTime  0.071 ( 0.263)\tData  0.003 ( 0.195)\tLoss 3.9465e-01 (2.8825e-01)\tAcc@1  84.38 ( 87.04)\n",
            "Epoch: [1][ 60/126]\tTime  0.068 ( 0.262)\tData  0.000 ( 0.196)\tLoss 2.6835e-01 (2.7273e-01)\tAcc@1  85.94 ( 87.88)\n",
            "Epoch: [1][ 80/126]\tTime  0.077 ( 0.261)\tData  0.005 ( 0.195)\tLoss 1.8833e-01 (2.6989e-01)\tAcc@1  87.50 ( 87.98)\n",
            "Epoch: [1][100/126]\tTime  0.103 ( 0.261)\tData  0.002 ( 0.194)\tLoss 2.5156e-01 (2.6149e-01)\tAcc@1  90.62 ( 88.54)\n",
            "Epoch: [1][120/126]\tTime  0.069 ( 0.260)\tData  0.005 ( 0.193)\tLoss 3.2454e-01 (2.5463e-01)\tAcc@1  87.50 ( 88.82)\n",
            "Test: [ 0/32]\tTime  0.704 ( 0.704)\tLoss 5.5396e-02 (5.5396e-02)\tAcc@1  98.44 ( 98.44)\n",
            "Test: [20/32]\tTime  0.358 ( 0.299)\tLoss 8.3387e-01 (2.5304e-01)\tAcc@1  64.06 ( 89.81)\n",
            " * Acc@1 81.018\n",
            "LR: 1.80902e-02\n",
            "Epoch: [2][  0/126]\tTime  0.749 ( 0.749)\tData  0.674 ( 0.674)\tLoss 2.2486e-01 (2.2486e-01)\tAcc@1  89.06 ( 89.06)\n",
            "Epoch: [2][ 20/126]\tTime  0.144 ( 0.267)\tData  0.082 ( 0.199)\tLoss 3.3702e-01 (3.5214e-01)\tAcc@1  81.25 ( 84.15)\n",
            "Epoch: [2][ 40/126]\tTime  0.520 ( 0.265)\tData  0.445 ( 0.202)\tLoss 3.6845e-01 (3.2833e-01)\tAcc@1  87.50 ( 85.10)\n",
            "Epoch: [2][ 60/126]\tTime  0.488 ( 0.263)\tData  0.430 ( 0.199)\tLoss 1.8021e-01 (3.0212e-01)\tAcc@1  92.19 ( 86.14)\n",
            "Epoch: [2][ 80/126]\tTime  0.376 ( 0.261)\tData  0.315 ( 0.195)\tLoss 2.5979e-01 (2.8722e-01)\tAcc@1  84.38 ( 86.82)\n",
            "Epoch: [2][100/126]\tTime  0.203 ( 0.259)\tData  0.137 ( 0.193)\tLoss 2.3607e-01 (2.7160e-01)\tAcc@1  89.06 ( 87.65)\n",
            "Epoch: [2][120/126]\tTime  0.071 ( 0.258)\tData  0.002 ( 0.192)\tLoss 1.6875e-01 (2.6492e-01)\tAcc@1  95.31 ( 88.04)\n",
            "Test: [ 0/32]\tTime  0.773 ( 0.773)\tLoss 1.1558e-01 (1.1558e-01)\tAcc@1  98.44 ( 98.44)\n",
            "Test: [20/32]\tTime  0.406 ( 0.299)\tLoss 2.5204e-01 (1.7238e-01)\tAcc@1  89.06 ( 93.53)\n",
            " * Acc@1 91.696\n",
            "LR: 1.58779e-02\n",
            "Epoch: [3][  0/126]\tTime  0.696 ( 0.696)\tData  0.635 ( 0.635)\tLoss 1.8472e-01 (1.8472e-01)\tAcc@1  89.06 ( 89.06)\n",
            "Epoch: [3][ 20/126]\tTime  0.435 ( 0.278)\tData  0.367 ( 0.212)\tLoss 2.7448e-01 (2.1615e-01)\tAcc@1  90.62 ( 89.58)\n",
            "Epoch: [3][ 40/126]\tTime  0.185 ( 0.262)\tData  0.116 ( 0.197)\tLoss 1.4576e-01 (2.2580e-01)\tAcc@1  92.19 ( 89.82)\n",
            "Epoch: [3][ 60/126]\tTime  0.061 ( 0.259)\tData  0.000 ( 0.194)\tLoss 1.2448e-01 (2.2096e-01)\tAcc@1  95.31 ( 90.32)\n",
            "Epoch: [3][ 80/126]\tTime  0.087 ( 0.257)\tData  0.020 ( 0.192)\tLoss 3.7013e-01 (2.1821e-01)\tAcc@1  85.94 ( 90.49)\n",
            "Epoch: [3][100/126]\tTime  0.456 ( 0.260)\tData  0.398 ( 0.196)\tLoss 9.8182e-02 (2.1014e-01)\tAcc@1  96.88 ( 90.87)\n",
            "Epoch: [3][120/126]\tTime  0.465 ( 0.259)\tData  0.398 ( 0.195)\tLoss 1.4871e-01 (2.0476e-01)\tAcc@1  95.31 ( 91.01)\n",
            "Test: [ 0/32]\tTime  0.665 ( 0.665)\tLoss 7.7217e-02 (7.7217e-02)\tAcc@1  98.44 ( 98.44)\n",
            "Test: [20/32]\tTime  0.500 ( 0.300)\tLoss 1.4244e-01 (1.1779e-01)\tAcc@1  89.06 ( 95.39)\n",
            " * Acc@1 95.403\n",
            "LR: 1.30902e-02\n",
            "Epoch: [4][  0/126]\tTime  0.750 ( 0.750)\tData  0.672 ( 0.672)\tLoss 2.1581e-01 (2.1581e-01)\tAcc@1  89.06 ( 89.06)\n",
            "Epoch: [4][ 20/126]\tTime  0.371 ( 0.278)\tData  0.307 ( 0.211)\tLoss 2.3375e-01 (2.3824e-01)\tAcc@1  89.06 ( 89.06)\n",
            "Epoch: [4][ 40/126]\tTime  0.183 ( 0.263)\tData  0.123 ( 0.199)\tLoss 2.0237e-01 (2.2395e-01)\tAcc@1  90.62 ( 89.52)\n",
            "Epoch: [4][ 60/126]\tTime  0.132 ( 0.261)\tData  0.063 ( 0.196)\tLoss 3.5911e-01 (2.1000e-01)\tAcc@1  87.50 ( 90.22)\n",
            "Epoch: [4][ 80/126]\tTime  0.237 ( 0.260)\tData  0.176 ( 0.196)\tLoss 2.0163e-01 (2.0344e-01)\tAcc@1  90.62 ( 90.74)\n",
            "Epoch: [4][100/126]\tTime  0.234 ( 0.258)\tData  0.173 ( 0.195)\tLoss 1.2149e-01 (1.9680e-01)\tAcc@1  93.75 ( 91.09)\n",
            "Epoch: [4][120/126]\tTime  0.061 ( 0.257)\tData  0.000 ( 0.193)\tLoss 1.5414e-01 (1.9673e-01)\tAcc@1  93.75 ( 91.09)\n",
            "Test: [ 0/32]\tTime  0.710 ( 0.710)\tLoss 2.0666e-01 (2.0666e-01)\tAcc@1  87.50 ( 87.50)\n",
            "Test: [20/32]\tTime  0.526 ( 0.301)\tLoss 5.8576e-02 (2.1716e-01)\tAcc@1  98.44 ( 91.37)\n",
            " * Acc@1 93.228\n",
            "LR: 1.00000e-02\n",
            "Epoch: [5][  0/126]\tTime  0.691 ( 0.691)\tData  0.614 ( 0.614)\tLoss 2.2143e-01 (2.2143e-01)\tAcc@1  90.62 ( 90.62)\n",
            "Epoch: [5][ 20/126]\tTime  0.437 ( 0.273)\tData  0.377 ( 0.205)\tLoss 1.1070e-01 (1.7765e-01)\tAcc@1  96.88 ( 91.82)\n",
            "Epoch: [5][ 40/126]\tTime  0.471 ( 0.262)\tData  0.410 ( 0.196)\tLoss 2.1489e-01 (1.7872e-01)\tAcc@1  85.94 ( 91.73)\n",
            "Epoch: [5][ 60/126]\tTime  0.442 ( 0.261)\tData  0.378 ( 0.194)\tLoss 9.8253e-02 (1.7434e-01)\tAcc@1  96.88 ( 92.34)\n",
            "Epoch: [5][ 80/126]\tTime  0.440 ( 0.259)\tData  0.379 ( 0.192)\tLoss 1.1494e-01 (1.6725e-01)\tAcc@1  96.88 ( 92.75)\n",
            "Epoch: [5][100/126]\tTime  0.433 ( 0.257)\tData  0.367 ( 0.191)\tLoss 1.6260e-01 (1.6690e-01)\tAcc@1  90.62 ( 92.67)\n",
            "Epoch: [5][120/126]\tTime  0.498 ( 0.257)\tData  0.430 ( 0.192)\tLoss 2.0954e-01 (1.6790e-01)\tAcc@1  92.19 ( 92.64)\n",
            "Test: [ 0/32]\tTime  0.731 ( 0.731)\tLoss 1.3910e-01 (1.3910e-01)\tAcc@1  93.75 ( 93.75)\n",
            "Test: [20/32]\tTime  0.545 ( 0.300)\tLoss 5.5111e-02 (1.5291e-01)\tAcc@1  96.88 ( 93.53)\n",
            " * Acc@1 94.859\n",
            "LR: 6.90983e-03\n",
            "Epoch: [6][  0/126]\tTime  0.659 ( 0.659)\tData  0.588 ( 0.588)\tLoss 2.5285e-01 (2.5285e-01)\tAcc@1  89.06 ( 89.06)\n",
            "Epoch: [6][ 20/126]\tTime  0.450 ( 0.275)\tData  0.398 ( 0.206)\tLoss 2.1295e-01 (1.9040e-01)\tAcc@1  95.31 ( 91.67)\n",
            "Epoch: [6][ 40/126]\tTime  0.459 ( 0.264)\tData  0.370 ( 0.197)\tLoss 2.0458e-01 (1.7757e-01)\tAcc@1  93.75 ( 92.11)\n",
            "Epoch: [6][ 60/126]\tTime  0.360 ( 0.259)\tData  0.295 ( 0.193)\tLoss 1.7258e-01 (1.7696e-01)\tAcc@1  90.62 ( 92.19)\n",
            "Epoch: [6][ 80/126]\tTime  0.065 ( 0.257)\tData  0.000 ( 0.191)\tLoss 1.0543e-01 (1.6894e-01)\tAcc@1  96.88 ( 92.59)\n",
            "Epoch: [6][100/126]\tTime  0.059 ( 0.256)\tData  0.000 ( 0.190)\tLoss 1.5718e-01 (1.6386e-01)\tAcc@1  92.19 ( 92.79)\n",
            "Epoch: [6][120/126]\tTime  0.506 ( 0.258)\tData  0.448 ( 0.193)\tLoss 1.2519e-01 (1.6374e-01)\tAcc@1  95.31 ( 92.70)\n",
            "Test: [ 0/32]\tTime  0.648 ( 0.648)\tLoss 1.6826e-01 (1.6826e-01)\tAcc@1  92.19 ( 92.19)\n",
            "Test: [20/32]\tTime  0.331 ( 0.292)\tLoss 5.0028e-02 (1.4425e-01)\tAcc@1  96.88 ( 94.27)\n",
            " * Acc@1 95.502\n",
            "LR: 4.12215e-03\n",
            "Epoch: [7][  0/126]\tTime  0.673 ( 0.673)\tData  0.591 ( 0.591)\tLoss 1.1722e-01 (1.1722e-01)\tAcc@1  95.31 ( 95.31)\n",
            "Epoch: [7][ 20/126]\tTime  0.436 ( 0.283)\tData  0.373 ( 0.219)\tLoss 1.1945e-01 (1.3082e-01)\tAcc@1  95.31 ( 94.27)\n",
            "Epoch: [7][ 40/126]\tTime  0.426 ( 0.269)\tData  0.362 ( 0.207)\tLoss 1.5168e-01 (1.3179e-01)\tAcc@1  92.19 ( 94.25)\n",
            "Epoch: [7][ 60/126]\tTime  0.433 ( 0.264)\tData  0.381 ( 0.202)\tLoss 1.9254e-01 (1.3568e-01)\tAcc@1  92.19 ( 94.24)\n",
            "Epoch: [7][ 80/126]\tTime  0.490 ( 0.264)\tData  0.413 ( 0.202)\tLoss 5.6955e-02 (1.3705e-01)\tAcc@1  98.44 ( 94.19)\n",
            "Epoch: [7][100/126]\tTime  0.446 ( 0.262)\tData  0.379 ( 0.199)\tLoss 1.3205e-01 (1.4012e-01)\tAcc@1  93.75 ( 93.95)\n",
            "Epoch: [7][120/126]\tTime  0.416 ( 0.260)\tData  0.354 ( 0.198)\tLoss 1.8768e-01 (1.4040e-01)\tAcc@1  89.06 ( 93.89)\n",
            "Test: [ 0/32]\tTime  0.693 ( 0.693)\tLoss 8.8214e-02 (8.8214e-02)\tAcc@1  96.88 ( 96.88)\n",
            "Test: [20/32]\tTime  0.548 ( 0.299)\tLoss 5.7154e-02 (1.0375e-01)\tAcc@1  96.88 ( 96.50)\n",
            " * Acc@1 96.441\n",
            "LR: 1.90983e-03\n",
            "Epoch: [8][  0/126]\tTime  0.717 ( 0.717)\tData  0.609 ( 0.609)\tLoss 1.6961e-01 (1.6961e-01)\tAcc@1  93.75 ( 93.75)\n",
            "Epoch: [8][ 20/126]\tTime  0.205 ( 0.269)\tData  0.143 ( 0.200)\tLoss 1.1829e-01 (1.4419e-01)\tAcc@1  98.44 ( 94.12)\n",
            "Epoch: [8][ 40/126]\tTime  0.071 ( 0.285)\tData  0.001 ( 0.217)\tLoss 1.1584e-01 (1.3867e-01)\tAcc@1  96.88 ( 94.05)\n",
            "Epoch: [8][ 60/126]\tTime  0.057 ( 0.278)\tData  0.000 ( 0.212)\tLoss 1.1861e-01 (1.3535e-01)\tAcc@1  95.31 ( 94.19)\n",
            "Epoch: [8][ 80/126]\tTime  0.075 ( 0.272)\tData  0.000 ( 0.206)\tLoss 1.5380e-01 (1.3548e-01)\tAcc@1  95.31 ( 94.29)\n",
            "Epoch: [8][100/126]\tTime  0.076 ( 0.270)\tData  0.000 ( 0.204)\tLoss 1.3307e-01 (1.3282e-01)\tAcc@1  95.31 ( 94.46)\n",
            "Epoch: [8][120/126]\tTime  0.063 ( 0.268)\tData  0.000 ( 0.202)\tLoss 1.4150e-01 (1.3396e-01)\tAcc@1  92.19 ( 94.20)\n",
            "Test: [ 0/32]\tTime  0.658 ( 0.658)\tLoss 7.7855e-02 (7.7855e-02)\tAcc@1  96.88 ( 96.88)\n",
            "Test: [20/32]\tTime  0.468 ( 0.297)\tLoss 6.0963e-02 (1.0029e-01)\tAcc@1  96.88 ( 96.80)\n",
            " * Acc@1 96.738\n",
            "LR: 4.89435e-04\n",
            "Epoch: [9][  0/126]\tTime  0.709 ( 0.709)\tData  0.624 ( 0.624)\tLoss 1.0480e-01 (1.0480e-01)\tAcc@1  93.75 ( 93.75)\n",
            "Epoch: [9][ 20/126]\tTime  0.347 ( 0.272)\tData  0.288 ( 0.204)\tLoss 5.5386e-02 (1.3204e-01)\tAcc@1 100.00 ( 94.27)\n",
            "Epoch: [9][ 40/126]\tTime  0.132 ( 0.257)\tData  0.079 ( 0.193)\tLoss 1.2234e-01 (1.3005e-01)\tAcc@1  93.75 ( 94.13)\n",
            "Epoch: [9][ 60/126]\tTime  0.227 ( 0.257)\tData  0.164 ( 0.194)\tLoss 1.5265e-01 (1.3582e-01)\tAcc@1  90.62 ( 93.88)\n",
            "Epoch: [9][ 80/126]\tTime  0.196 ( 0.257)\tData  0.140 ( 0.195)\tLoss 1.2734e-01 (1.3863e-01)\tAcc@1  92.19 ( 93.83)\n",
            "Epoch: [9][100/126]\tTime  0.331 ( 0.258)\tData  0.273 ( 0.196)\tLoss 2.1965e-01 (1.4040e-01)\tAcc@1  92.19 ( 93.69)\n",
            "Epoch: [9][120/126]\tTime  0.200 ( 0.256)\tData  0.138 ( 0.195)\tLoss 1.5085e-01 (1.3901e-01)\tAcc@1  92.19 ( 93.83)\n",
            "Test: [ 0/32]\tTime  0.672 ( 0.672)\tLoss 7.7093e-02 (7.7093e-02)\tAcc@1  96.88 ( 96.88)\n",
            "Test: [20/32]\tTime  0.407 ( 0.300)\tLoss 6.3756e-02 (1.0052e-01)\tAcc@1  96.88 ( 96.73)\n",
            " * Acc@1 96.688\n"
          ]
        }
      ]
    },
    {
      "cell_type": "markdown",
      "source": [
        "Even though we swapped some modules here, the ImageNet pretrained weights are still useful. ImageNet pretrained wieghts are very robust."
      ],
      "metadata": {
        "id": "ztJCtWSHTvfL"
      }
    },
    {
      "cell_type": "markdown",
      "metadata": {
        "id": "PSxxQQnEwifh"
      },
      "source": [
        "Let's check how the model is doing on some test images.\n"
      ]
    },
    {
      "cell_type": "code",
      "metadata": {
        "colab": {
          "base_uri": "https://localhost:8080/",
          "height": 1000
        },
        "id": "6biTaa7MHG9c",
        "outputId": "4868ddb3-f5d0-4757-a1bd-99f42b1f0e76"
      },
      "source": [
        "model.eval() # remember to switch to evaluation mode\n",
        "test_transform = transforms.Compose([\n",
        "        transforms.Resize(256), # for test we don't need to do augmentation\n",
        "        transforms.ToTensor(),\n",
        "        normalize])\n",
        "from PIL import Image\n",
        "\n",
        "def pil_loader(path):\n",
        "    with open(path, 'rb') as f:\n",
        "        img = Image.open(f)\n",
        "        return img.convert('RGB')\n",
        "print('classes:')\n",
        "!ls test_set/test_set\n",
        "print()\n",
        "!ls test_set/test_set/cats\n",
        "!ls test_set/test_set/dogs\n",
        "\n",
        "model.cuda(0)\n",
        "\n",
        "test_img = pil_loader('test_set/test_set/cats/cat.4749.jpg')\n",
        "test_img2 = pil_loader('test_set/test_set/dogs/dog.4410.jpg')\n",
        "\n",
        "imgplot = plt.imshow(test_img)\n",
        "plt.show()\n",
        "\n",
        "x = test_transform(test_img).unsqueeze_(0).cuda(0)\n",
        "with torch.no_grad():\n",
        "    print(torch.softmax(model(x), dim=-1))\n",
        "    print(torch.argmax(model(x), dim=-1))\n",
        "\n",
        "imgplot = plt.imshow(test_img2)\n",
        "plt.show()\n",
        "\n",
        "x = test_transform(test_img2).unsqueeze_(0).cuda(0)\n",
        "with torch.no_grad():\n",
        "    print(torch.softmax(model(x), dim=-1))\n",
        "    print(torch.argmax(model(x), dim=-1))"
      ],
      "execution_count": null,
      "outputs": [
        {
          "output_type": "stream",
          "name": "stdout",
          "text": [
            "classes:\n",
            "cats  dogs\n",
            "\n",
            " cat.4001.jpg\t    cat.4249.jpg       cat.4501.jpg\t  cat.4751.jpg\n",
            " cat.4002.jpg\t    cat.4250.jpg       cat.4502.jpg\t  cat.4752.jpg\n",
            " cat.4003.jpg\t    cat.4251.jpg       cat.4503.jpg\t  cat.4753.jpg\n",
            " cat.4004.jpg\t    cat.4252.jpg       cat.4504.jpg\t  cat.4754.jpg\n",
            " cat.4005.jpg\t    cat.4253.jpg       cat.4505.jpg\t  cat.4755.jpg\n",
            " cat.4006.jpg\t    cat.4254.jpg       cat.4506.jpg\t  cat.4756.jpg\n",
            " cat.4007.jpg\t    cat.4255.jpg       cat.4507.jpg\t  cat.4757.jpg\n",
            " cat.4008.jpg\t    cat.4256.jpg       cat.4508.jpg\t  cat.4758.jpg\n",
            " cat.4009.jpg\t    cat.4257.jpg       cat.4509.jpg\t  cat.4759.jpg\n",
            " cat.4010.jpg\t    cat.4258.jpg       cat.4510.jpg\t  cat.4760.jpg\n",
            " cat.4011.jpg\t    cat.4259.jpg       cat.4511.jpg\t  cat.4761.jpg\n",
            " cat.4012.jpg\t    cat.4260.jpg       cat.4512.jpg\t  cat.4762.jpg\n",
            " cat.4013.jpg\t    cat.4261.jpg       cat.4513.jpg\t  cat.4763.jpg\n",
            " cat.4014.jpg\t    cat.4262.jpg       cat.4514.jpg\t  cat.4764.jpg\n",
            " cat.4015.jpg\t    cat.4263.jpg       cat.4515.jpg\t  cat.4765.jpg\n",
            " cat.4016.jpg\t    cat.4264.jpg       cat.4516.jpg\t  cat.4766.jpg\n",
            " cat.4017.jpg\t    cat.4265.jpg       cat.4517.jpg\t  cat.4767.jpg\n",
            " cat.4018.jpg\t    cat.4266.jpg       cat.4518.jpg\t  cat.4768.jpg\n",
            " cat.4019.jpg\t    cat.4267.jpg       cat.4519.jpg\t  cat.4769.jpg\n",
            " cat.4020.jpg\t    cat.4268.jpg       cat.4520.jpg\t  cat.4770.jpg\n",
            " cat.4021.jpg\t    cat.4269.jpg       cat.4521.jpg\t  cat.4771.jpg\n",
            " cat.4022.jpg\t    cat.4270.jpg       cat.4522.jpg\t  cat.4772.jpg\n",
            " cat.4023.jpg\t    cat.4271.jpg       cat.4523.jpg\t  cat.4773.jpg\n",
            " cat.4024.jpg\t    cat.4272.jpg       cat.4524.jpg\t  cat.4774.jpg\n",
            " cat.4025.jpg\t    cat.4273.jpg       cat.4525.jpg\t  cat.4775.jpg\n",
            " cat.4026.jpg\t    cat.4274.jpg       cat.4526.jpg\t  cat.4776.jpg\n",
            " cat.4027.jpg\t    cat.4275.jpg       cat.4527.jpg\t  cat.4777.jpg\n",
            " cat.4028.jpg\t    cat.4276.jpg       cat.4528.jpg\t  cat.4778.jpg\n",
            " cat.4029.jpg\t    cat.4277.jpg       cat.4529.jpg\t  cat.4779.jpg\n",
            " cat.4030.jpg\t    cat.4278.jpg       cat.4530.jpg\t  cat.4780.jpg\n",
            " cat.4031.jpg\t    cat.4279.jpg       cat.4531.jpg\t  cat.4781.jpg\n",
            " cat.4032.jpg\t    cat.4280.jpg       cat.4532.jpg\t  cat.4782.jpg\n",
            " cat.4033.jpg\t    cat.4281.jpg       cat.4533.jpg\t  cat.4783.jpg\n",
            " cat.4034.jpg\t    cat.4282.jpg       cat.4534.jpg\t  cat.4784.jpg\n",
            " cat.4035.jpg\t    cat.4283.jpg       cat.4535.jpg\t  cat.4785.jpg\n",
            " cat.4036.jpg\t    cat.4284.jpg       cat.4536.jpg\t  cat.4786.jpg\n",
            " cat.4037.jpg\t    cat.4285.jpg       cat.4537.jpg\t  cat.4787.jpg\n",
            " cat.4038.jpg\t    cat.4286.jpg       cat.4538.jpg\t  cat.4788.jpg\n",
            " cat.4039.jpg\t    cat.4287.jpg       cat.4539.jpg\t  cat.4789.jpg\n",
            " cat.4040.jpg\t    cat.4288.jpg       cat.4540.jpg\t  cat.4790.jpg\n",
            " cat.4041.jpg\t    cat.4289.jpg       cat.4541.jpg\t  cat.4791.jpg\n",
            " cat.4042.jpg\t    cat.4290.jpg       cat.4542.jpg\t  cat.4792.jpg\n",
            " cat.4043.jpg\t    cat.4291.jpg       cat.4543.jpg\t  cat.4793.jpg\n",
            " cat.4044.jpg\t    cat.4292.jpg       cat.4544.jpg\t  cat.4794.jpg\n",
            " cat.4045.jpg\t    cat.4293.jpg       cat.4545.jpg\t  cat.4795.jpg\n",
            " cat.4046.jpg\t    cat.4294.jpg       cat.4546.jpg\t  cat.4796.jpg\n",
            " cat.4047.jpg\t    cat.4295.jpg       cat.4547.jpg\t  cat.4797.jpg\n",
            " cat.4048.jpg\t    cat.4296.jpg       cat.4548.jpg\t  cat.4798.jpg\n",
            " cat.4049.jpg\t    cat.4297.jpg       cat.4549.jpg\t  cat.4799.jpg\n",
            " cat.4050.jpg\t    cat.4298.jpg       cat.4550.jpg\t  cat.4800.jpg\n",
            " cat.4051.jpg\t    cat.4299.jpg       cat.4551.jpg\t  cat.4801.jpg\n",
            " cat.4052.jpg\t    cat.4300.jpg       cat.4552.jpg\t  cat.4802.jpg\n",
            " cat.4053.jpg\t    cat.4301.jpg       cat.4553.jpg\t 'cat.4803(1).jpg'\n",
            " cat.4054.jpg\t    cat.4302.jpg       cat.4554.jpg\t  cat.4803.jpg\n",
            " cat.4055.jpg\t    cat.4303.jpg       cat.4555.jpg\t  cat.4804.jpg\n",
            " cat.4056.jpg\t    cat.4304.jpg       cat.4556.jpg\t  cat.4805.jpg\n",
            " cat.4057.jpg\t    cat.4305.jpg       cat.4557.jpg\t  cat.4806.jpg\n",
            " cat.4058.jpg\t    cat.4306.jpg       cat.4558.jpg\t  cat.4807.jpg\n",
            " cat.4059.jpg\t    cat.4307.jpg       cat.4559.jpg\t  cat.4808.jpg\n",
            " cat.4060.jpg\t    cat.4308.jpg       cat.4560.jpg\t  cat.4809.jpg\n",
            " cat.4061.jpg\t    cat.4309.jpg       cat.4561.jpg\t  cat.4810.jpg\n",
            " cat.4062.jpg\t    cat.4310.jpg       cat.4562.jpg\t  cat.4811.jpg\n",
            " cat.4063.jpg\t    cat.4311.jpg       cat.4563.jpg\t  cat.4812.jpg\n",
            " cat.4064.jpg\t    cat.4312.jpg       cat.4564.jpg\t  cat.4813.jpg\n",
            " cat.4065.jpg\t    cat.4313.jpg       cat.4565.jpg\t  cat.4814.jpg\n",
            " cat.4066.jpg\t    cat.4314.jpg       cat.4566.jpg\t  cat.4815.jpg\n",
            " cat.4067.jpg\t    cat.4315.jpg       cat.4567.jpg\t  cat.4816.jpg\n",
            " cat.4068.jpg\t    cat.4316.jpg       cat.4568.jpg\t 'cat.4817(1).jpg'\n",
            " cat.4069.jpg\t    cat.4317.jpg       cat.4569.jpg\t  cat.4817.jpg\n",
            " cat.4070.jpg\t    cat.4318.jpg       cat.4570.jpg\t  cat.4818.jpg\n",
            " cat.4071.jpg\t    cat.4319.jpg       cat.4571.jpg\t  cat.4819.jpg\n",
            " cat.4072.jpg\t    cat.4320.jpg       cat.4572.jpg\t  cat.4820.jpg\n",
            " cat.4073.jpg\t    cat.4321.jpg       cat.4573.jpg\t  cat.4821.jpg\n",
            " cat.4074.jpg\t    cat.4322.jpg       cat.4574.jpg\t  cat.4822.jpg\n",
            " cat.4075.jpg\t    cat.4323.jpg       cat.4575.jpg\t  cat.4823.jpg\n",
            " cat.4076.jpg\t    cat.4324.jpg       cat.4576.jpg\t  cat.4824.jpg\n",
            " cat.4077.jpg\t    cat.4325.jpg       cat.4577.jpg\t  cat.4825.jpg\n",
            " cat.4078.jpg\t    cat.4326.jpg       cat.4578.jpg\t  cat.4826.jpg\n",
            " cat.4079.jpg\t    cat.4327.jpg       cat.4579.jpg\t  cat.4827.jpg\n",
            " cat.4080.jpg\t    cat.4328.jpg       cat.4580.jpg\t  cat.4828.jpg\n",
            " cat.4081.jpg\t    cat.4329.jpg       cat.4581.jpg\t  cat.4829.jpg\n",
            " cat.4082.jpg\t    cat.4330.jpg       cat.4582.jpg\t  cat.4830.jpg\n",
            " cat.4083.jpg\t    cat.4331.jpg       cat.4583.jpg\t  cat.4831.jpg\n",
            " cat.4084.jpg\t    cat.4332.jpg       cat.4584.jpg\t  cat.4832.jpg\n",
            " cat.4085.jpg\t    cat.4333.jpg       cat.4585.jpg\t  cat.4833.jpg\n",
            " cat.4086.jpg\t    cat.4334.jpg       cat.4586.jpg\t  cat.4834.jpg\n",
            " cat.4087.jpg\t    cat.4335.jpg       cat.4587.jpg\t  cat.4835.jpg\n",
            " cat.4088.jpg\t    cat.4336.jpg       cat.4588.jpg\t  cat.4836.jpg\n",
            " cat.4089.jpg\t    cat.4337.jpg       cat.4589.jpg\t  cat.4837.jpg\n",
            " cat.4090.jpg\t    cat.4338.jpg       cat.4590.jpg\t  cat.4838.jpg\n",
            " cat.4091.jpg\t    cat.4339.jpg       cat.4591.jpg\t  cat.4839.jpg\n",
            " cat.4092.jpg\t    cat.4340.jpg       cat.4592.jpg\t  cat.4840.jpg\n",
            " cat.4093.jpg\t    cat.4341.jpg       cat.4593.jpg\t  cat.4841.jpg\n",
            " cat.4094.jpg\t    cat.4342.jpg       cat.4594.jpg\t  cat.4842.jpg\n",
            " cat.4095.jpg\t    cat.4343.jpg       cat.4595.jpg\t  cat.4843.jpg\n",
            " cat.4096.jpg\t    cat.4344.jpg       cat.4596.jpg\t  cat.4844.jpg\n",
            " cat.4097.jpg\t    cat.4345.jpg       cat.4597.jpg\t  cat.4845.jpg\n",
            " cat.4098.jpg\t    cat.4346.jpg       cat.4598.jpg\t  cat.4846.jpg\n",
            " cat.4099.jpg\t    cat.4347.jpg       cat.4599.jpg\t  cat.4847.jpg\n",
            " cat.4100.jpg\t    cat.4348.jpg       cat.4600.jpg\t  cat.4848.jpg\n",
            " cat.4101.jpg\t    cat.4349.jpg       cat.4601.jpg\t  cat.4849.jpg\n",
            " cat.4102.jpg\t    cat.4350.jpg       cat.4602.jpg\t  cat.4850.jpg\n",
            " cat.4103.jpg\t    cat.4351.jpg       cat.4603.jpg\t  cat.4851.jpg\n",
            " cat.4104.jpg\t    cat.4352.jpg       cat.4604.jpg\t  cat.4852.jpg\n",
            " cat.4105.jpg\t    cat.4353.jpg       cat.4605.jpg\t  cat.4853.jpg\n",
            " cat.4106.jpg\t    cat.4354.jpg       cat.4606.jpg\t  cat.4854.jpg\n",
            " cat.4107.jpg\t    cat.4355.jpg       cat.4607.jpg\t  cat.4855.jpg\n",
            " cat.4108.jpg\t    cat.4356.jpg       cat.4608.jpg\t  cat.4856.jpg\n",
            " cat.4109.jpg\t    cat.4357.jpg       cat.4609.jpg\t  cat.4857.jpg\n",
            " cat.4110.jpg\t    cat.4358.jpg       cat.4610.jpg\t  cat.4858.jpg\n",
            " cat.4111.jpg\t    cat.4359.jpg       cat.4611.jpg\t  cat.4859.jpg\n",
            " cat.4112.jpg\t    cat.4360.jpg       cat.4612.jpg\t  cat.4860.jpg\n",
            " cat.4113.jpg\t    cat.4361.jpg       cat.4613.jpg\t  cat.4861.jpg\n",
            " cat.4114.jpg\t    cat.4362.jpg       cat.4614.jpg\t  cat.4862.jpg\n",
            " cat.4115.jpg\t    cat.4363.jpg       cat.4615.jpg\t  cat.4863.jpg\n",
            " cat.4116.jpg\t    cat.4364.jpg       cat.4616.jpg\t  cat.4864.jpg\n",
            " cat.4117.jpg\t    cat.4365.jpg       cat.4617.jpg\t  cat.4865.jpg\n",
            " cat.4118.jpg\t    cat.4366.jpg      'cat.4618(1).jpg'   cat.4866.jpg\n",
            " cat.4119.jpg\t    cat.4367.jpg       cat.4618.jpg\t  cat.4867.jpg\n",
            " cat.4120.jpg\t    cat.4368.jpg       cat.4619.jpg\t  cat.4868.jpg\n",
            " cat.4121.jpg\t    cat.4369.jpg       cat.4620.jpg\t  cat.4869.jpg\n",
            " cat.4122.jpg\t    cat.4370.jpg       cat.4621.jpg\t  cat.4870.jpg\n",
            " cat.4123.jpg\t    cat.4371.jpg       cat.4622.jpg\t  cat.4871.jpg\n",
            " cat.4124.jpg\t    cat.4372.jpg       cat.4623.jpg\t  cat.4872.jpg\n",
            " cat.4125.jpg\t    cat.4373.jpg      'cat.4624(1).jpg'   cat.4873.jpg\n",
            " cat.4126.jpg\t    cat.4374.jpg       cat.4624.jpg\t  cat.4874.jpg\n",
            " cat.4127.jpg\t    cat.4375.jpg       cat.4625.jpg\t  cat.4875.jpg\n",
            " cat.4128.jpg\t    cat.4376.jpg       cat.4626.jpg\t  cat.4876.jpg\n",
            " cat.4129.jpg\t    cat.4377.jpg       cat.4627.jpg\t  cat.4877.jpg\n",
            " cat.4130.jpg\t    cat.4378.jpg       cat.4628.jpg\t  cat.4878.jpg\n",
            " cat.4131.jpg\t    cat.4379.jpg       cat.4629.jpg\t  cat.4879.jpg\n",
            " cat.4132.jpg\t    cat.4380.jpg      'cat.4630(1).jpg'   cat.4880.jpg\n",
            " cat.4133.jpg\t    cat.4381.jpg       cat.4630.jpg\t  cat.4881.jpg\n",
            " cat.4134.jpg\t    cat.4382.jpg       cat.4631.jpg\t  cat.4882.jpg\n",
            " cat.4135.jpg\t    cat.4383.jpg       cat.4632.jpg\t  cat.4883.jpg\n",
            " cat.4136.jpg\t    cat.4384.jpg       cat.4633.jpg\t  cat.4884.jpg\n",
            " cat.4137.jpg\t    cat.4385.jpg       cat.4634.jpg\t  cat.4885.jpg\n",
            " cat.4138.jpg\t    cat.4386.jpg       cat.4635.jpg\t  cat.4886.jpg\n",
            " cat.4139.jpg\t    cat.4387.jpg       cat.4636.jpg\t  cat.4887.jpg\n",
            " cat.4140.jpg\t    cat.4388.jpg       cat.4637.jpg\t  cat.4888.jpg\n",
            " cat.4141.jpg\t    cat.4389.jpg       cat.4638.jpg\t  cat.4889.jpg\n",
            "'cat.4142(1).jpg'   cat.4390.jpg       cat.4639.jpg\t  cat.4890.jpg\n",
            " cat.4142.jpg\t    cat.4391.jpg       cat.4640.jpg\t  cat.4891.jpg\n",
            " cat.4143.jpg\t    cat.4392.jpg       cat.4641.jpg\t  cat.4892.jpg\n",
            " cat.4144.jpg\t    cat.4393.jpg       cat.4642.jpg\t  cat.4893.jpg\n",
            " cat.4145.jpg\t    cat.4394.jpg       cat.4643.jpg\t  cat.4894.jpg\n",
            " cat.4146.jpg\t    cat.4395.jpg       cat.4644.jpg\t  cat.4895.jpg\n",
            " cat.4147.jpg\t    cat.4396.jpg       cat.4645.jpg\t  cat.4896.jpg\n",
            " cat.4148.jpg\t   'cat.4397(1).jpg'   cat.4646.jpg\t  cat.4897.jpg\n",
            " cat.4149.jpg\t    cat.4397.jpg       cat.4647.jpg\t  cat.4898.jpg\n",
            " cat.4150.jpg\t    cat.4398.jpg       cat.4648.jpg\t  cat.4899.jpg\n",
            " cat.4151.jpg\t    cat.4399.jpg       cat.4649.jpg\t  cat.4900.jpg\n",
            " cat.4152.jpg\t    cat.4400.jpg       cat.4650.jpg\t  cat.4901.jpg\n",
            " cat.4153.jpg\t    cat.4401.jpg       cat.4651.jpg\t  cat.4902.jpg\n",
            " cat.4154.jpg\t    cat.4402.jpg       cat.4652.jpg\t  cat.4903.jpg\n",
            " cat.4155.jpg\t    cat.4403.jpg       cat.4653.jpg\t  cat.4904.jpg\n",
            "'cat.4156(1).jpg'   cat.4404.jpg       cat.4654.jpg\t  cat.4905.jpg\n",
            " cat.4156.jpg\t    cat.4405.jpg       cat.4655.jpg\t  cat.4906.jpg\n",
            " cat.4157.jpg\t    cat.4406.jpg       cat.4656.jpg\t  cat.4907.jpg\n",
            " cat.4158.jpg\t    cat.4407.jpg       cat.4657.jpg\t  cat.4908.jpg\n",
            " cat.4159.jpg\t    cat.4408.jpg       cat.4658.jpg\t  cat.4909.jpg\n",
            " cat.4160.jpg\t    cat.4409.jpg       cat.4659.jpg\t  cat.4910.jpg\n",
            " cat.4161.jpg\t    cat.4410.jpg       cat.4660.jpg\t  cat.4911.jpg\n",
            " cat.4162.jpg\t    cat.4411.jpg       cat.4661.jpg\t  cat.4912.jpg\n",
            " cat.4163.jpg\t    cat.4412.jpg       cat.4662.jpg\t  cat.4913.jpg\n",
            " cat.4164.jpg\t    cat.4413.jpg       cat.4663.jpg\t  cat.4914.jpg\n",
            " cat.4165.jpg\t    cat.4414.jpg       cat.4664.jpg\t  cat.4915.jpg\n",
            " cat.4166.jpg\t    cat.4415.jpg       cat.4665.jpg\t  cat.4916.jpg\n",
            " cat.4167.jpg\t    cat.4416.jpg       cat.4666.jpg\t  cat.4917.jpg\n",
            " cat.4168.jpg\t    cat.4417.jpg       cat.4667.jpg\t  cat.4918.jpg\n",
            " cat.4169.jpg\t    cat.4418.jpg       cat.4668.jpg\t  cat.4919.jpg\n",
            " cat.4170.jpg\t    cat.4419.jpg       cat.4669.jpg\t  cat.4920.jpg\n",
            " cat.4171.jpg\t    cat.4420.jpg       cat.4670.jpg\t  cat.4921.jpg\n",
            " cat.4172.jpg\t    cat.4421.jpg       cat.4671.jpg\t  cat.4922.jpg\n",
            " cat.4173.jpg\t    cat.4422.jpg       cat.4672.jpg\t  cat.4923.jpg\n",
            " cat.4174.jpg\t    cat.4423.jpg       cat.4673.jpg\t  cat.4924.jpg\n",
            " cat.4175.jpg\t    cat.4424.jpg       cat.4674.jpg\t  cat.4925.jpg\n",
            " cat.4176.jpg\t    cat.4425.jpg       cat.4675.jpg\t  cat.4926.jpg\n",
            " cat.4177.jpg\t    cat.4426.jpg       cat.4676.jpg\t  cat.4927.jpg\n",
            " cat.4178.jpg\t    cat.4427.jpg       cat.4677.jpg\t  cat.4928.jpg\n",
            " cat.4179.jpg\t    cat.4428.jpg       cat.4678.jpg\t  cat.4929.jpg\n",
            " cat.4180.jpg\t    cat.4429.jpg       cat.4679.jpg\t  cat.4930.jpg\n",
            "'cat.4181(1).jpg'   cat.4430.jpg       cat.4680.jpg\t  cat.4931.jpg\n",
            " cat.4181.jpg\t    cat.4431.jpg       cat.4681.jpg\t  cat.4932.jpg\n",
            " cat.4182.jpg\t    cat.4432.jpg       cat.4682.jpg\t  cat.4933.jpg\n",
            " cat.4183.jpg\t    cat.4433.jpg       cat.4683.jpg\t  cat.4934.jpg\n",
            " cat.4184.jpg\t    cat.4434.jpg       cat.4684.jpg\t  cat.4935.jpg\n",
            " cat.4185.jpg\t    cat.4435.jpg       cat.4685.jpg\t  cat.4936.jpg\n",
            " cat.4186.jpg\t    cat.4436.jpg       cat.4686.jpg\t  cat.4937.jpg\n",
            " cat.4187.jpg\t    cat.4437.jpg       cat.4687.jpg\t  cat.4938.jpg\n",
            " cat.4188.jpg\t    cat.4438.jpg       cat.4688.jpg\t  cat.4939.jpg\n",
            " cat.4189.jpg\t    cat.4439.jpg       cat.4689.jpg\t  cat.4940.jpg\n",
            " cat.4190.jpg\t    cat.4440.jpg       cat.4690.jpg\t  cat.4941.jpg\n",
            " cat.4191.jpg\t    cat.4441.jpg       cat.4691.jpg\t  cat.4942.jpg\n",
            " cat.4192.jpg\t    cat.4442.jpg       cat.4692.jpg\t  cat.4943.jpg\n",
            " cat.4193.jpg\t    cat.4443.jpg       cat.4693.jpg\t  cat.4944.jpg\n",
            " cat.4194.jpg\t    cat.4444.jpg       cat.4694.jpg\t  cat.4945.jpg\n",
            "'cat.4195(1).jpg'   cat.4445.jpg       cat.4695.jpg\t  cat.4946.jpg\n",
            " cat.4195.jpg\t    cat.4446.jpg       cat.4696.jpg\t  cat.4947.jpg\n",
            " cat.4196.jpg\t    cat.4447.jpg       cat.4697.jpg\t  cat.4948.jpg\n",
            " cat.4197.jpg\t    cat.4448.jpg       cat.4698.jpg\t  cat.4949.jpg\n",
            " cat.4198.jpg\t    cat.4449.jpg       cat.4699.jpg\t  cat.4950.jpg\n",
            " cat.4199.jpg\t    cat.4450.jpg       cat.4700.jpg\t  cat.4951.jpg\n",
            " cat.4200.jpg\t    cat.4451.jpg       cat.4701.jpg\t  cat.4952.jpg\n",
            " cat.4201.jpg\t    cat.4452.jpg       cat.4702.jpg\t  cat.4953.jpg\n",
            " cat.4202.jpg\t    cat.4453.jpg       cat.4703.jpg\t  cat.4954.jpg\n",
            " cat.4203.jpg\t    cat.4454.jpg       cat.4704.jpg\t  cat.4955.jpg\n",
            " cat.4204.jpg\t    cat.4455.jpg       cat.4705.jpg\t  cat.4956.jpg\n",
            " cat.4205.jpg\t    cat.4456.jpg       cat.4706.jpg\t  cat.4957.jpg\n",
            " cat.4206.jpg\t    cat.4457.jpg       cat.4707.jpg\t  cat.4958.jpg\n",
            " cat.4207.jpg\t    cat.4458.jpg       cat.4708.jpg\t  cat.4959.jpg\n",
            " cat.4208.jpg\t    cat.4459.jpg       cat.4709.jpg\t  cat.4960.jpg\n",
            " cat.4209.jpg\t    cat.4460.jpg       cat.4710.jpg\t  cat.4961.jpg\n",
            " cat.4210.jpg\t    cat.4461.jpg       cat.4711.jpg\t  cat.4962.jpg\n",
            " cat.4211.jpg\t    cat.4462.jpg       cat.4712.jpg\t  cat.4963.jpg\n",
            " cat.4212.jpg\t    cat.4463.jpg       cat.4713.jpg\t  cat.4964.jpg\n",
            " cat.4213.jpg\t    cat.4464.jpg       cat.4714.jpg\t  cat.4965.jpg\n",
            " cat.4214.jpg\t    cat.4465.jpg       cat.4715.jpg\t  cat.4966.jpg\n",
            " cat.4215.jpg\t    cat.4466.jpg       cat.4716.jpg\t  cat.4967.jpg\n",
            " cat.4216.jpg\t    cat.4467.jpg       cat.4717.jpg\t  cat.4968.jpg\n",
            " cat.4217.jpg\t    cat.4468.jpg       cat.4718.jpg\t  cat.4969.jpg\n",
            " cat.4218.jpg\t    cat.4469.jpg       cat.4719.jpg\t  cat.4970.jpg\n",
            " cat.4219.jpg\t    cat.4470.jpg       cat.4720.jpg\t  cat.4971.jpg\n",
            "'cat.4220(1).jpg'   cat.4471.jpg       cat.4721.jpg\t  cat.4972.jpg\n",
            " cat.4220.jpg\t    cat.4472.jpg       cat.4722.jpg\t  cat.4973.jpg\n",
            " cat.4221.jpg\t    cat.4473.jpg       cat.4723.jpg\t  cat.4974.jpg\n",
            " cat.4222.jpg\t    cat.4474.jpg       cat.4724.jpg\t  cat.4975.jpg\n",
            " cat.4223.jpg\t    cat.4475.jpg       cat.4725.jpg\t  cat.4976.jpg\n",
            " cat.4224.jpg\t    cat.4476.jpg       cat.4726.jpg\t  cat.4977.jpg\n",
            " cat.4225.jpg\t    cat.4477.jpg       cat.4727.jpg\t  cat.4978.jpg\n",
            " cat.4226.jpg\t    cat.4478.jpg       cat.4728.jpg\t  cat.4979.jpg\n",
            " cat.4227.jpg\t    cat.4479.jpg       cat.4729.jpg\t  cat.4980.jpg\n",
            " cat.4228.jpg\t    cat.4480.jpg       cat.4730.jpg\t  cat.4981.jpg\n",
            " cat.4229.jpg\t    cat.4481.jpg       cat.4731.jpg\t  cat.4982.jpg\n",
            " cat.4230.jpg\t    cat.4482.jpg       cat.4732.jpg\t  cat.4983.jpg\n",
            " cat.4231.jpg\t    cat.4483.jpg       cat.4733.jpg\t  cat.4984.jpg\n",
            " cat.4232.jpg\t    cat.4484.jpg       cat.4734.jpg\t  cat.4985.jpg\n",
            " cat.4233.jpg\t    cat.4485.jpg       cat.4735.jpg\t  cat.4986.jpg\n",
            " cat.4234.jpg\t    cat.4486.jpg       cat.4736.jpg\t  cat.4987.jpg\n",
            " cat.4235.jpg\t    cat.4487.jpg       cat.4737.jpg\t  cat.4988.jpg\n",
            " cat.4236.jpg\t    cat.4488.jpg       cat.4738.jpg\t  cat.4989.jpg\n",
            " cat.4237.jpg\t    cat.4489.jpg       cat.4739.jpg\t  cat.4990.jpg\n",
            " cat.4238.jpg\t    cat.4490.jpg       cat.4740.jpg\t  cat.4991.jpg\n",
            " cat.4239.jpg\t    cat.4491.jpg       cat.4741.jpg\t  cat.4992.jpg\n",
            " cat.4240.jpg\t    cat.4492.jpg       cat.4742.jpg\t  cat.4993.jpg\n",
            " cat.4241.jpg\t    cat.4493.jpg       cat.4743.jpg\t  cat.4994.jpg\n",
            " cat.4242.jpg\t    cat.4494.jpg       cat.4744.jpg\t  cat.4995.jpg\n",
            " cat.4243.jpg\t    cat.4495.jpg       cat.4745.jpg\t  cat.4996.jpg\n",
            " cat.4244.jpg\t    cat.4496.jpg       cat.4746.jpg\t  cat.4997.jpg\n",
            " cat.4245.jpg\t    cat.4497.jpg       cat.4747.jpg\t  cat.4998.jpg\n",
            " cat.4246.jpg\t    cat.4498.jpg       cat.4748.jpg\t  cat.4999.jpg\n",
            " cat.4247.jpg\t    cat.4499.jpg       cat.4749.jpg\t  cat.5000.jpg\n",
            " cat.4248.jpg\t    cat.4500.jpg       cat.4750.jpg\t  _DS_Store\n",
            " dog.4001.jpg\t    dog.4251.jpg       dog.4503.jpg\t  dog.4754.jpg\n",
            " dog.4002.jpg\t    dog.4252.jpg       dog.4504.jpg\t  dog.4755.jpg\n",
            " dog.4003.jpg\t    dog.4253.jpg       dog.4505.jpg\t  dog.4756.jpg\n",
            " dog.4004.jpg\t    dog.4254.jpg       dog.4506.jpg\t  dog.4757.jpg\n",
            " dog.4005.jpg\t    dog.4255.jpg       dog.4507.jpg\t  dog.4758.jpg\n",
            " dog.4006.jpg\t    dog.4256.jpg       dog.4508.jpg\t  dog.4759.jpg\n",
            " dog.4007.jpg\t    dog.4257.jpg       dog.4509.jpg\t  dog.4760.jpg\n",
            " dog.4008.jpg\t    dog.4258.jpg       dog.4510.jpg\t  dog.4761.jpg\n",
            " dog.4009.jpg\t    dog.4259.jpg       dog.4511.jpg\t  dog.4762.jpg\n",
            " dog.4010.jpg\t    dog.4260.jpg       dog.4512.jpg\t  dog.4763.jpg\n",
            " dog.4011.jpg\t    dog.4261.jpg       dog.4513.jpg\t  dog.4764.jpg\n",
            " dog.4012.jpg\t    dog.4262.jpg       dog.4514.jpg\t  dog.4765.jpg\n",
            " dog.4013.jpg\t    dog.4263.jpg       dog.4515.jpg\t  dog.4766.jpg\n",
            " dog.4014.jpg\t    dog.4264.jpg       dog.4516.jpg\t  dog.4767.jpg\n",
            " dog.4015.jpg\t    dog.4265.jpg       dog.4517.jpg\t  dog.4768.jpg\n",
            " dog.4016.jpg\t    dog.4266.jpg       dog.4518.jpg\t  dog.4769.jpg\n",
            " dog.4017.jpg\t    dog.4267.jpg       dog.4519.jpg\t  dog.4770.jpg\n",
            " dog.4018.jpg\t    dog.4268.jpg       dog.4520.jpg\t  dog.4771.jpg\n",
            " dog.4019.jpg\t    dog.4269.jpg       dog.4521.jpg\t  dog.4772.jpg\n",
            " dog.4020.jpg\t    dog.4270.jpg       dog.4522.jpg\t  dog.4773.jpg\n",
            " dog.4021.jpg\t    dog.4271.jpg       dog.4523.jpg\t  dog.4774.jpg\n",
            " dog.4022.jpg\t    dog.4272.jpg       dog.4524.jpg\t  dog.4775.jpg\n",
            " dog.4023.jpg\t    dog.4273.jpg       dog.4525.jpg\t  dog.4776.jpg\n",
            " dog.4024.jpg\t    dog.4274.jpg       dog.4526.jpg\t  dog.4777.jpg\n",
            " dog.4025.jpg\t    dog.4275.jpg       dog.4527.jpg\t  dog.4778.jpg\n",
            " dog.4026.jpg\t    dog.4276.jpg       dog.4528.jpg\t  dog.4779.jpg\n",
            " dog.4027.jpg\t    dog.4277.jpg       dog.4529.jpg\t  dog.4780.jpg\n",
            " dog.4028.jpg\t    dog.4278.jpg       dog.4530.jpg\t  dog.4781.jpg\n",
            " dog.4029.jpg\t    dog.4279.jpg       dog.4531.jpg\t  dog.4782.jpg\n",
            " dog.4030.jpg\t    dog.4280.jpg       dog.4532.jpg\t  dog.4783.jpg\n",
            " dog.4031.jpg\t    dog.4281.jpg       dog.4533.jpg\t  dog.4784.jpg\n",
            " dog.4032.jpg\t    dog.4282.jpg       dog.4534.jpg\t  dog.4785.jpg\n",
            " dog.4033.jpg\t    dog.4283.jpg       dog.4535.jpg\t  dog.4786.jpg\n",
            " dog.4034.jpg\t    dog.4284.jpg       dog.4536.jpg\t  dog.4787.jpg\n",
            " dog.4035.jpg\t    dog.4285.jpg       dog.4537.jpg\t  dog.4788.jpg\n",
            " dog.4036.jpg\t    dog.4286.jpg       dog.4538.jpg\t  dog.4789.jpg\n",
            " dog.4037.jpg\t    dog.4287.jpg       dog.4539.jpg\t  dog.4790.jpg\n",
            " dog.4038.jpg\t    dog.4288.jpg       dog.4540.jpg\t  dog.4791.jpg\n",
            " dog.4039.jpg\t    dog.4289.jpg       dog.4541.jpg\t  dog.4792.jpg\n",
            " dog.4040.jpg\t    dog.4290.jpg       dog.4542.jpg\t  dog.4793.jpg\n",
            " dog.4041.jpg\t    dog.4291.jpg       dog.4543.jpg\t  dog.4794.jpg\n",
            " dog.4042.jpg\t    dog.4292.jpg       dog.4544.jpg\t  dog.4795.jpg\n",
            " dog.4043.jpg\t    dog.4293.jpg       dog.4545.jpg\t  dog.4796.jpg\n",
            " dog.4044.jpg\t    dog.4294.jpg       dog.4546.jpg\t  dog.4797.jpg\n",
            " dog.4045.jpg\t    dog.4295.jpg       dog.4547.jpg\t  dog.4798.jpg\n",
            " dog.4046.jpg\t    dog.4296.jpg       dog.4548.jpg\t  dog.4799.jpg\n",
            " dog.4047.jpg\t    dog.4297.jpg       dog.4549.jpg\t  dog.4800.jpg\n",
            " dog.4048.jpg\t    dog.4298.jpg       dog.4550.jpg\t  dog.4801.jpg\n",
            " dog.4049.jpg\t    dog.4299.jpg       dog.4551.jpg\t  dog.4802.jpg\n",
            " dog.4050.jpg\t    dog.4300.jpg       dog.4552.jpg\t  dog.4803.jpg\n",
            " dog.4051.jpg\t    dog.4301.jpg       dog.4553.jpg\t  dog.4804.jpg\n",
            " dog.4052.jpg\t    dog.4302.jpg       dog.4554.jpg\t  dog.4805.jpg\n",
            " dog.4053.jpg\t    dog.4303.jpg       dog.4555.jpg\t  dog.4806.jpg\n",
            " dog.4054.jpg\t    dog.4304.jpg       dog.4556.jpg\t  dog.4807.jpg\n",
            " dog.4055.jpg\t    dog.4305.jpg       dog.4557.jpg\t  dog.4808.jpg\n",
            " dog.4056.jpg\t    dog.4306.jpg       dog.4558.jpg\t  dog.4809.jpg\n",
            " dog.4057.jpg\t    dog.4307.jpg       dog.4559.jpg\t  dog.4810.jpg\n",
            " dog.4058.jpg\t    dog.4308.jpg       dog.4560.jpg\t  dog.4811.jpg\n",
            " dog.4059.jpg\t    dog.4309.jpg       dog.4561.jpg\t  dog.4812.jpg\n",
            " dog.4060.jpg\t    dog.4310.jpg       dog.4562.jpg\t  dog.4813.jpg\n",
            " dog.4061.jpg\t    dog.4311.jpg      'dog.4563(1).jpg'   dog.4814.jpg\n",
            " dog.4062.jpg\t    dog.4312.jpg       dog.4563.jpg\t  dog.4815.jpg\n",
            " dog.4063.jpg\t    dog.4313.jpg       dog.4564.jpg\t  dog.4816.jpg\n",
            " dog.4064.jpg\t    dog.4314.jpg       dog.4565.jpg\t  dog.4817.jpg\n",
            " dog.4065.jpg\t    dog.4315.jpg       dog.4566.jpg\t 'dog.4818(1).jpg'\n",
            " dog.4066.jpg\t    dog.4316.jpg       dog.4567.jpg\t  dog.4818.jpg\n",
            " dog.4067.jpg\t    dog.4317.jpg       dog.4568.jpg\t  dog.4819.jpg\n",
            " dog.4068.jpg\t    dog.4318.jpg       dog.4569.jpg\t  dog.4820.jpg\n",
            " dog.4069.jpg\t    dog.4319.jpg       dog.4570.jpg\t  dog.4821.jpg\n",
            " dog.4070.jpg\t    dog.4320.jpg       dog.4571.jpg\t  dog.4822.jpg\n",
            " dog.4071.jpg\t    dog.4321.jpg       dog.4572.jpg\t  dog.4823.jpg\n",
            " dog.4072.jpg\t    dog.4322.jpg       dog.4573.jpg\t 'dog.4824(1).jpg'\n",
            " dog.4073.jpg\t    dog.4323.jpg       dog.4574.jpg\t  dog.4824.jpg\n",
            " dog.4074.jpg\t    dog.4324.jpg       dog.4575.jpg\t  dog.4825.jpg\n",
            " dog.4075.jpg\t    dog.4325.jpg       dog.4576.jpg\t  dog.4826.jpg\n",
            " dog.4076.jpg\t    dog.4326.jpg       dog.4577.jpg\t  dog.4827.jpg\n",
            " dog.4077.jpg\t    dog.4327.jpg       dog.4578.jpg\t  dog.4828.jpg\n",
            " dog.4078.jpg\t    dog.4328.jpg       dog.4579.jpg\t  dog.4829.jpg\n",
            " dog.4079.jpg\t    dog.4329.jpg       dog.4580.jpg\t 'dog.4830(1).jpg'\n",
            " dog.4080.jpg\t    dog.4330.jpg       dog.4581.jpg\t  dog.4830.jpg\n",
            " dog.4081.jpg\t    dog.4331.jpg       dog.4582.jpg\t  dog.4831.jpg\n",
            " dog.4082.jpg\t    dog.4332.jpg       dog.4583.jpg\t  dog.4832.jpg\n",
            " dog.4083.jpg\t    dog.4333.jpg       dog.4584.jpg\t  dog.4833.jpg\n",
            " dog.4084.jpg\t    dog.4334.jpg       dog.4585.jpg\t  dog.4834.jpg\n",
            " dog.4085.jpg\t    dog.4335.jpg       dog.4586.jpg\t  dog.4835.jpg\n",
            " dog.4086.jpg\t    dog.4336.jpg       dog.4587.jpg\t  dog.4836.jpg\n",
            " dog.4087.jpg\t    dog.4337.jpg       dog.4588.jpg\t  dog.4837.jpg\n",
            " dog.4088.jpg\t    dog.4338.jpg       dog.4589.jpg\t  dog.4838.jpg\n",
            " dog.4089.jpg\t    dog.4339.jpg       dog.4590.jpg\t  dog.4839.jpg\n",
            " dog.4090.jpg\t    dog.4340.jpg       dog.4591.jpg\t  dog.4840.jpg\n",
            " dog.4091.jpg\t    dog.4341.jpg       dog.4592.jpg\t  dog.4841.jpg\n",
            " dog.4092.jpg\t    dog.4342.jpg       dog.4593.jpg\t  dog.4842.jpg\n",
            " dog.4093.jpg\t    dog.4343.jpg       dog.4594.jpg\t  dog.4843.jpg\n",
            " dog.4094.jpg\t    dog.4344.jpg       dog.4595.jpg\t  dog.4844.jpg\n",
            " dog.4095.jpg\t    dog.4345.jpg       dog.4596.jpg\t  dog.4845.jpg\n",
            " dog.4096.jpg\t    dog.4346.jpg       dog.4597.jpg\t  dog.4846.jpg\n",
            " dog.4097.jpg\t    dog.4347.jpg       dog.4598.jpg\t  dog.4847.jpg\n",
            " dog.4098.jpg\t    dog.4348.jpg       dog.4599.jpg\t  dog.4848.jpg\n",
            " dog.4099.jpg\t    dog.4349.jpg       dog.4600.jpg\t  dog.4849.jpg\n",
            " dog.4100.jpg\t    dog.4350.jpg       dog.4601.jpg\t  dog.4850.jpg\n",
            " dog.4101.jpg\t    dog.4351.jpg       dog.4602.jpg\t  dog.4851.jpg\n",
            " dog.4102.jpg\t    dog.4352.jpg      'dog.4603(1).jpg'   dog.4852.jpg\n",
            " dog.4103.jpg\t    dog.4353.jpg       dog.4603.jpg\t  dog.4853.jpg\n",
            " dog.4104.jpg\t    dog.4354.jpg       dog.4604.jpg\t  dog.4854.jpg\n",
            " dog.4105.jpg\t    dog.4355.jpg       dog.4605.jpg\t  dog.4855.jpg\n",
            " dog.4106.jpg\t    dog.4356.jpg       dog.4606.jpg\t  dog.4856.jpg\n",
            " dog.4107.jpg\t    dog.4357.jpg       dog.4607.jpg\t  dog.4857.jpg\n",
            " dog.4108.jpg\t    dog.4358.jpg       dog.4608.jpg\t  dog.4858.jpg\n",
            " dog.4109.jpg\t    dog.4359.jpg       dog.4609.jpg\t  dog.4859.jpg\n",
            " dog.4110.jpg\t    dog.4360.jpg       dog.4610.jpg\t  dog.4860.jpg\n",
            " dog.4111.jpg\t    dog.4361.jpg       dog.4611.jpg\t  dog.4861.jpg\n",
            " dog.4112.jpg\t    dog.4362.jpg       dog.4612.jpg\t  dog.4862.jpg\n",
            " dog.4113.jpg\t    dog.4363.jpg       dog.4613.jpg\t  dog.4863.jpg\n",
            " dog.4114.jpg\t    dog.4364.jpg       dog.4614.jpg\t  dog.4864.jpg\n",
            " dog.4115.jpg\t    dog.4365.jpg       dog.4615.jpg\t  dog.4865.jpg\n",
            " dog.4116.jpg\t    dog.4366.jpg       dog.4616.jpg\t  dog.4866.jpg\n",
            " dog.4117.jpg\t    dog.4367.jpg      'dog.4617(1).jpg'   dog.4867.jpg\n",
            " dog.4118.jpg\t    dog.4368.jpg       dog.4617.jpg\t  dog.4868.jpg\n",
            " dog.4119.jpg\t    dog.4369.jpg       dog.4618.jpg\t  dog.4869.jpg\n",
            " dog.4120.jpg\t    dog.4370.jpg       dog.4619.jpg\t  dog.4870.jpg\n",
            " dog.4121.jpg\t    dog.4371.jpg       dog.4620.jpg\t  dog.4871.jpg\n",
            " dog.4122.jpg\t    dog.4372.jpg       dog.4621.jpg\t  dog.4872.jpg\n",
            " dog.4123.jpg\t   'dog.4373(1).jpg'   dog.4622.jpg\t  dog.4873.jpg\n",
            " dog.4124.jpg\t    dog.4373.jpg       dog.4623.jpg\t  dog.4874.jpg\n",
            " dog.4125.jpg\t    dog.4374.jpg       dog.4624.jpg\t  dog.4875.jpg\n",
            " dog.4126.jpg\t    dog.4375.jpg       dog.4625.jpg\t  dog.4876.jpg\n",
            " dog.4127.jpg\t    dog.4376.jpg       dog.4626.jpg\t  dog.4877.jpg\n",
            " dog.4128.jpg\t    dog.4377.jpg       dog.4627.jpg\t  dog.4878.jpg\n",
            " dog.4129.jpg\t    dog.4378.jpg       dog.4628.jpg\t  dog.4879.jpg\n",
            " dog.4130.jpg\t    dog.4379.jpg       dog.4629.jpg\t  dog.4880.jpg\n",
            " dog.4131.jpg\t    dog.4380.jpg       dog.4630.jpg\t  dog.4881.jpg\n",
            " dog.4132.jpg\t    dog.4381.jpg       dog.4631.jpg\t  dog.4882.jpg\n",
            " dog.4133.jpg\t    dog.4382.jpg       dog.4632.jpg\t  dog.4883.jpg\n",
            " dog.4134.jpg\t    dog.4383.jpg       dog.4633.jpg\t  dog.4884.jpg\n",
            " dog.4135.jpg\t    dog.4384.jpg       dog.4634.jpg\t  dog.4885.jpg\n",
            " dog.4136.jpg\t    dog.4385.jpg       dog.4635.jpg\t  dog.4886.jpg\n",
            " dog.4137.jpg\t    dog.4386.jpg       dog.4636.jpg\t  dog.4887.jpg\n",
            " dog.4138.jpg\t    dog.4387.jpg       dog.4637.jpg\t  dog.4888.jpg\n",
            " dog.4139.jpg\t    dog.4388.jpg       dog.4638.jpg\t  dog.4889.jpg\n",
            " dog.4140.jpg\t    dog.4389.jpg       dog.4639.jpg\t  dog.4890.jpg\n",
            " dog.4141.jpg\t    dog.4390.jpg       dog.4640.jpg\t  dog.4891.jpg\n",
            " dog.4142.jpg\t    dog.4391.jpg       dog.4641.jpg\t  dog.4892.jpg\n",
            " dog.4143.jpg\t    dog.4392.jpg       dog.4642.jpg\t  dog.4893.jpg\n",
            " dog.4144.jpg\t    dog.4393.jpg       dog.4643.jpg\t  dog.4894.jpg\n",
            " dog.4145.jpg\t    dog.4394.jpg       dog.4644.jpg\t  dog.4895.jpg\n",
            " dog.4146.jpg\t    dog.4395.jpg       dog.4645.jpg\t  dog.4896.jpg\n",
            " dog.4147.jpg\t    dog.4396.jpg       dog.4646.jpg\t  dog.4897.jpg\n",
            " dog.4148.jpg\t    dog.4397.jpg       dog.4647.jpg\t  dog.4898.jpg\n",
            " dog.4149.jpg\t    dog.4398.jpg       dog.4648.jpg\t  dog.4899.jpg\n",
            " dog.4150.jpg\t    dog.4399.jpg       dog.4649.jpg\t  dog.4900.jpg\n",
            " dog.4151.jpg\t    dog.4400.jpg       dog.4650.jpg\t  dog.4901.jpg\n",
            " dog.4152.jpg\t    dog.4401.jpg       dog.4651.jpg\t  dog.4902.jpg\n",
            " dog.4153.jpg\t    dog.4402.jpg       dog.4652.jpg\t  dog.4903.jpg\n",
            " dog.4154.jpg\t    dog.4403.jpg       dog.4653.jpg\t  dog.4904.jpg\n",
            " dog.4155.jpg\t    dog.4404.jpg       dog.4654.jpg\t  dog.4905.jpg\n",
            " dog.4156.jpg\t    dog.4405.jpg       dog.4655.jpg\t  dog.4906.jpg\n",
            " dog.4157.jpg\t    dog.4406.jpg       dog.4656.jpg\t  dog.4907.jpg\n",
            " dog.4158.jpg\t    dog.4407.jpg       dog.4657.jpg\t  dog.4908.jpg\n",
            "'dog.4159(1).jpg'   dog.4408.jpg       dog.4658.jpg\t  dog.4909.jpg\n",
            " dog.4159.jpg\t    dog.4409.jpg       dog.4659.jpg\t  dog.4910.jpg\n",
            " dog.4160.jpg\t    dog.4410.jpg       dog.4660.jpg\t  dog.4911.jpg\n",
            " dog.4161.jpg\t    dog.4411.jpg       dog.4661.jpg\t  dog.4912.jpg\n",
            " dog.4162.jpg\t    dog.4412.jpg       dog.4662.jpg\t  dog.4913.jpg\n",
            " dog.4163.jpg\t    dog.4413.jpg       dog.4663.jpg\t  dog.4914.jpg\n",
            " dog.4164.jpg\t    dog.4414.jpg       dog.4664.jpg\t  dog.4915.jpg\n",
            "'dog.4165(1).jpg'   dog.4415.jpg       dog.4665.jpg\t  dog.4916.jpg\n",
            " dog.4165.jpg\t    dog.4416.jpg       dog.4666.jpg\t  dog.4917.jpg\n",
            " dog.4166.jpg\t    dog.4417.jpg       dog.4667.jpg\t  dog.4918.jpg\n",
            " dog.4167.jpg\t    dog.4418.jpg       dog.4668.jpg\t  dog.4919.jpg\n",
            " dog.4168.jpg\t    dog.4419.jpg       dog.4669.jpg\t  dog.4920.jpg\n",
            " dog.4169.jpg\t    dog.4420.jpg       dog.4670.jpg\t  dog.4921.jpg\n",
            " dog.4170.jpg\t    dog.4421.jpg       dog.4671.jpg\t  dog.4922.jpg\n",
            "'dog.4171(1).jpg'   dog.4422.jpg       dog.4672.jpg\t  dog.4923.jpg\n",
            " dog.4171.jpg\t    dog.4423.jpg       dog.4673.jpg\t  dog.4924.jpg\n",
            " dog.4172.jpg\t    dog.4424.jpg       dog.4674.jpg\t  dog.4925.jpg\n",
            " dog.4173.jpg\t    dog.4425.jpg       dog.4675.jpg\t  dog.4926.jpg\n",
            " dog.4174.jpg\t    dog.4426.jpg       dog.4676.jpg\t  dog.4927.jpg\n",
            " dog.4175.jpg\t    dog.4427.jpg       dog.4677.jpg\t  dog.4928.jpg\n",
            " dog.4176.jpg\t    dog.4428.jpg       dog.4678.jpg\t  dog.4929.jpg\n",
            " dog.4177.jpg\t   'dog.4429(1).jpg'   dog.4679.jpg\t  dog.4930.jpg\n",
            " dog.4178.jpg\t    dog.4429.jpg       dog.4680.jpg\t  dog.4931.jpg\n",
            " dog.4179.jpg\t    dog.4430.jpg       dog.4681.jpg\t  dog.4932.jpg\n",
            " dog.4180.jpg\t    dog.4431.jpg       dog.4682.jpg\t  dog.4933.jpg\n",
            " dog.4181.jpg\t    dog.4432.jpg       dog.4683.jpg\t  dog.4934.jpg\n",
            " dog.4182.jpg\t    dog.4433.jpg       dog.4684.jpg\t  dog.4935.jpg\n",
            " dog.4183.jpg\t    dog.4434.jpg       dog.4685.jpg\t  dog.4936.jpg\n",
            " dog.4184.jpg\t    dog.4435.jpg       dog.4686.jpg\t  dog.4937.jpg\n",
            " dog.4185.jpg\t    dog.4436.jpg       dog.4687.jpg\t  dog.4938.jpg\n",
            " dog.4186.jpg\t    dog.4437.jpg       dog.4688.jpg\t  dog.4939.jpg\n",
            " dog.4187.jpg\t    dog.4438.jpg       dog.4689.jpg\t  dog.4940.jpg\n",
            " dog.4188.jpg\t    dog.4439.jpg       dog.4690.jpg\t  dog.4941.jpg\n",
            " dog.4189.jpg\t    dog.4440.jpg       dog.4691.jpg\t  dog.4942.jpg\n",
            " dog.4190.jpg\t    dog.4441.jpg       dog.4692.jpg\t  dog.4943.jpg\n",
            " dog.4191.jpg\t    dog.4442.jpg       dog.4693.jpg\t  dog.4944.jpg\n",
            " dog.4192.jpg\t    dog.4443.jpg       dog.4694.jpg\t  dog.4945.jpg\n",
            " dog.4193.jpg\t    dog.4444.jpg       dog.4695.jpg\t  dog.4946.jpg\n",
            " dog.4194.jpg\t    dog.4445.jpg       dog.4696.jpg\t  dog.4947.jpg\n",
            " dog.4195.jpg\t    dog.4446.jpg       dog.4697.jpg\t  dog.4948.jpg\n",
            " dog.4196.jpg\t    dog.4447.jpg       dog.4698.jpg\t  dog.4949.jpg\n",
            " dog.4197.jpg\t    dog.4448.jpg       dog.4699.jpg\t  dog.4950.jpg\n",
            " dog.4198.jpg\t    dog.4449.jpg       dog.4700.jpg\t  dog.4951.jpg\n",
            " dog.4199.jpg\t    dog.4450.jpg       dog.4701.jpg\t  dog.4952.jpg\n",
            " dog.4200.jpg\t    dog.4451.jpg       dog.4702.jpg\t  dog.4953.jpg\n",
            " dog.4201.jpg\t    dog.4452.jpg       dog.4703.jpg\t  dog.4954.jpg\n",
            " dog.4202.jpg\t    dog.4453.jpg       dog.4704.jpg\t  dog.4955.jpg\n",
            " dog.4203.jpg\t    dog.4454.jpg       dog.4705.jpg\t  dog.4956.jpg\n",
            " dog.4204.jpg\t    dog.4455.jpg       dog.4706.jpg\t  dog.4957.jpg\n",
            "'dog.4205(1).jpg'   dog.4456.jpg       dog.4707.jpg\t  dog.4958.jpg\n",
            " dog.4205.jpg\t    dog.4457.jpg       dog.4708.jpg\t  dog.4959.jpg\n",
            " dog.4206.jpg\t    dog.4458.jpg       dog.4709.jpg\t  dog.4960.jpg\n",
            " dog.4207.jpg\t    dog.4459.jpg       dog.4710.jpg\t  dog.4961.jpg\n",
            " dog.4208.jpg\t    dog.4460.jpg       dog.4711.jpg\t  dog.4962.jpg\n",
            " dog.4209.jpg\t    dog.4461.jpg       dog.4712.jpg\t  dog.4963.jpg\n",
            " dog.4210.jpg\t    dog.4462.jpg       dog.4713.jpg\t  dog.4964.jpg\n",
            " dog.4211.jpg\t    dog.4463.jpg       dog.4714.jpg\t  dog.4965.jpg\n",
            " dog.4212.jpg\t    dog.4464.jpg       dog.4715.jpg\t  dog.4966.jpg\n",
            " dog.4213.jpg\t    dog.4465.jpg       dog.4716.jpg\t  dog.4967.jpg\n",
            " dog.4214.jpg\t    dog.4466.jpg       dog.4717.jpg\t  dog.4968.jpg\n",
            " dog.4215.jpg\t    dog.4467.jpg       dog.4718.jpg\t  dog.4969.jpg\n",
            " dog.4216.jpg\t    dog.4468.jpg       dog.4719.jpg\t  dog.4970.jpg\n",
            " dog.4217.jpg\t    dog.4469.jpg       dog.4720.jpg\t  dog.4971.jpg\n",
            " dog.4218.jpg\t    dog.4470.jpg       dog.4721.jpg\t  dog.4972.jpg\n",
            " dog.4219.jpg\t    dog.4471.jpg       dog.4722.jpg\t  dog.4973.jpg\n",
            " dog.4220.jpg\t    dog.4472.jpg       dog.4723.jpg\t  dog.4974.jpg\n",
            " dog.4221.jpg\t    dog.4473.jpg       dog.4724.jpg\t  dog.4975.jpg\n",
            " dog.4222.jpg\t    dog.4474.jpg       dog.4725.jpg\t  dog.4976.jpg\n",
            " dog.4223.jpg\t    dog.4475.jpg       dog.4726.jpg\t  dog.4977.jpg\n",
            " dog.4224.jpg\t    dog.4476.jpg       dog.4727.jpg\t  dog.4978.jpg\n",
            " dog.4225.jpg\t    dog.4477.jpg       dog.4728.jpg\t  dog.4979.jpg\n",
            " dog.4226.jpg\t    dog.4478.jpg       dog.4729.jpg\t  dog.4980.jpg\n",
            " dog.4227.jpg\t    dog.4479.jpg       dog.4730.jpg\t  dog.4981.jpg\n",
            " dog.4228.jpg\t    dog.4480.jpg       dog.4731.jpg\t  dog.4982.jpg\n",
            " dog.4229.jpg\t    dog.4481.jpg       dog.4732.jpg\t  dog.4983.jpg\n",
            " dog.4230.jpg\t    dog.4482.jpg       dog.4733.jpg\t  dog.4984.jpg\n",
            " dog.4231.jpg\t    dog.4483.jpg       dog.4734.jpg\t  dog.4985.jpg\n",
            " dog.4232.jpg\t    dog.4484.jpg       dog.4735.jpg\t  dog.4986.jpg\n",
            " dog.4233.jpg\t    dog.4485.jpg       dog.4736.jpg\t  dog.4987.jpg\n",
            " dog.4234.jpg\t    dog.4486.jpg       dog.4737.jpg\t  dog.4988.jpg\n",
            " dog.4235.jpg\t    dog.4487.jpg       dog.4738.jpg\t  dog.4989.jpg\n",
            " dog.4236.jpg\t    dog.4488.jpg       dog.4739.jpg\t  dog.4990.jpg\n",
            " dog.4237.jpg\t    dog.4489.jpg       dog.4740.jpg\t  dog.4991.jpg\n",
            " dog.4238.jpg\t    dog.4490.jpg       dog.4741.jpg\t  dog.4992.jpg\n",
            " dog.4239.jpg\t    dog.4491.jpg       dog.4742.jpg\t  dog.4993.jpg\n",
            " dog.4240.jpg\t    dog.4492.jpg       dog.4743.jpg\t  dog.4994.jpg\n",
            " dog.4241.jpg\t    dog.4493.jpg       dog.4744.jpg\t  dog.4995.jpg\n",
            " dog.4242.jpg\t    dog.4494.jpg       dog.4745.jpg\t  dog.4996.jpg\n",
            " dog.4243.jpg\t    dog.4495.jpg       dog.4746.jpg\t  dog.4997.jpg\n",
            " dog.4244.jpg\t    dog.4496.jpg       dog.4747.jpg\t  dog.4998.jpg\n",
            " dog.4245.jpg\t    dog.4497.jpg       dog.4748.jpg\t  dog.4999.jpg\n",
            " dog.4246.jpg\t    dog.4498.jpg       dog.4749.jpg\t  dog.5000.jpg\n",
            " dog.4247.jpg\t    dog.4499.jpg       dog.4750.jpg\t  _DS_Store\n",
            " dog.4248.jpg\t    dog.4500.jpg       dog.4751.jpg\n",
            " dog.4249.jpg\t    dog.4501.jpg       dog.4752.jpg\n",
            " dog.4250.jpg\t    dog.4502.jpg       dog.4753.jpg\n"
          ]
        },
        {
          "output_type": "display_data",
          "data": {
            "text/plain": [
              "<Figure size 432x288 with 1 Axes>"
            ],
            "image/png": "[encoded data removed]"
          },
          "metadata": {
            "needs_background": "light"
          }
        },
        {
          "output_type": "stream",
          "name": "stdout",
          "text": [
            "tensor([[9.9996e-01, 3.5903e-05]], device='cuda:0')\n",
            "tensor([0], device='cuda:0')\n"
          ]
        },
        {
          "output_type": "display_data",
          "data": {
            "text/plain": [
              "<Figure size 432x288 with 1 Axes>"
            ],
            "image/png": "[encoded data removed]"
          },
          "metadata": {
            "needs_background": "light"
          }
        },
        {
          "output_type": "stream",
          "name": "stdout",
          "text": [
            "tensor([[2.0837e-04, 9.9979e-01]], device='cuda:0')\n",
            "tensor([1], device='cuda:0')\n"
          ]
        }
      ]
    },
    {
      "cell_type": "markdown",
      "source": [
        "# Plotting Confusion Matrix"
      ],
      "metadata": {
        "id": "sylexfwW1-n4"
      }
    },
    {
      "cell_type": "code",
      "metadata": {
        "colab": {
          "base_uri": "https://localhost:8080/",
          "height": 279
        },
        "id": "za3OVSOn5Zr6",
        "outputId": "0725267c-6f96-4101-8ee5-b8a92ea77dd0"
      },
      "source": [
        "# We can also plot confustion matrix\n",
        "from sklearn.metrics import confusion_matrix, ConfusionMatrixDisplay\n",
        "model.eval()\n",
        "y_true = []\n",
        "y_pred = []\n",
        "with torch.no_grad():\n",
        "    end = time.time()\n",
        "    for i, (images, target) in enumerate(val_loader):\n",
        "        images = images.cuda(0, non_blocking=True)\n",
        "        target = target.cuda(0, non_blocking=True)\n",
        "\n",
        "        # compute output\n",
        "        output = model(images)\n",
        "        y_pred.extend(torch.argmax(output, dim=-1).cpu().numpy().tolist())\n",
        "        y_true.extend(target.cpu().numpy().tolist())\n",
        "cm = confusion_matrix(y_true, y_pred)\n",
        "disp = ConfusionMatrixDisplay(confusion_matrix=cm,\n",
        "                              display_labels=[\"cat\", \"dog\"])\n",
        "disp.plot()\n",
        "plt.show()"
      ],
      "execution_count": null,
      "outputs": [
        {
          "output_type": "display_data",
          "data": {
            "text/plain": [
              "<Figure size 432x288 with 2 Axes>"
            ],
            "image/png": "[encoded data removed]"
          },
          "metadata": {
            "needs_background": "light"
          }
        }
      ]
    },
    {
      "cell_type": "markdown",
      "source": [
        "Confusion is a uesful tool for debugging our model. The diagnal are all the correct prediction. \n",
        "\n"
      ],
      "metadata": {
        "id": "vNJ323Z-Ytx0"
      }
    },
    {
      "cell_type": "markdown",
      "metadata": {
        "id": "uQSauf8LqfNb"
      },
      "source": [
        "#Export model as onnx file\n",
        "\n",
        "SnapML cannot consume pytorch model directly. We need to convert our model into onnx file. "
      ]
    },
    {
      "cell_type": "code",
      "metadata": {
        "id": "8Csi5DERqdIy",
        "colab": {
          "base_uri": "https://localhost:8080/",
          "height": 17
        },
        "outputId": "7573807e-e81f-4db4-afae-51c60550f2b1"
      },
      "source": [
        "dummy_input = torch.randn(1, 3, 256, 256, dtype=torch.float32)\n",
        "input_names = [\"data\"]\n",
        "output_names = [\"prob\"]\n",
        "model.cpu()\n",
        "class ExportModel(nn.Module):\n",
        "    def __init__(self, model):\n",
        "        super(ExportModel, self).__init__()\n",
        "        self.m = model\n",
        "    def forward(self, x):\n",
        "        return torch.softmax(self.m(x), dim=1)\n",
        "export_model = ExportModel(model)\n",
        "torch.onnx.export(export_model, dummy_input, 'mobilenetv3small' + \".onnx\", verbose=False,\n",
        "                  input_names=input_names, output_names=output_names, opset_version=9)\n",
        "files.download('mobilenetv3small.onnx') "
      ],
      "execution_count": null,
      "outputs": [
        {
          "output_type": "display_data",
          "data": {
            "text/plain": [
              "<IPython.core.display.Javascript object>"
            ],
            "application/javascript": [
              "\n",
              "    async function download(id, filename, size) {\n",
              "      if (!google.colab.kernel.accessAllowed) {\n",
              "        return;\n",
              "      }\n",
              "      const div = document.createElement('div');\n",
              "      const label = document.createElement('label');\n",
              "      label.textContent = `Downloading \"${filename}\": `;\n",
              "      div.appendChild(label);\n",
              "      const progress = document.createElement('progress');\n",
              "      progress.max = size;\n",
              "      div.appendChild(progress);\n",
              "      document.body.appendChild(div);\n",
              "\n",
              "      const buffers = [];\n",
              "      let downloaded = 0;\n",
              "\n",
              "      const channel = await google.colab.kernel.comms.open(id);\n",
              "      // Send a message to notify the kernel that we're ready.\n",
              "      channel.send({})\n",
              "\n",
              "      for await (const message of channel.messages) {\n",
              "        // Send a message to notify the kernel that we're ready.\n",
              "        channel.send({})\n",
              "        if (message.buffers) {\n",
              "          for (const buffer of message.buffers) {\n",
              "            buffers.push(buffer);\n",
              "            downloaded += buffer.byteLength;\n",
              "            progress.value = downloaded;\n",
              "          }\n",
              "        }\n",
              "      }\n",
              "      const blob = new Blob(buffers, {type: 'application/binary'});\n",
              "      const a = document.createElement('a');\n",
              "      a.href = window.URL.createObjectURL(blob);\n",
              "      a.download = filename;\n",
              "      div.appendChild(a);\n",
              "      a.click();\n",
              "      div.remove();\n",
              "    }\n",
              "  "
            ]
          },
          "metadata": {}
        },
        {
          "output_type": "display_data",
          "data": {
            "text/plain": [
              "<IPython.core.display.Javascript object>"
            ],
            "application/javascript": [
              "download(\"download_95b1000c-6396-4634-b65a-108d8466f052\", \"mobilenetv3small.onnx\", 6073021)"
            ]
          },
          "metadata": {}
        }
      ]
    },
    {
      "cell_type": "markdown",
      "metadata": {
        "id": "KzYvTBMiE9ec"
      },
      "source": [
        "# Lens Studio Steps to Set Up Classification Lens\n",
        "\n",
        "1. Now we can import our model into LensStudio. Go to Lens Studio and open the ML Classification Template: https://lensstudio.snapchat.com/templates/ml/classification/\n",
        "\n",
        "2. In the Objects panel, select ML Component.\n",
        "\n",
        "3. Select your downloaded ONNX model.\n",
        "\n",
        "4. In the ML Component setup popup, set up your scale and bias parameters. The scale and bias parameters are:\n",
        "\n",
        "scale: 0.0171247, 0.017507, 0.0174291\n",
        "\n",
        "bias: -2.1179039, -2.0357141, -1.8044444\n",
        "\n",
        "=================\n",
        "\n",
        "How to derive these values: \n",
        "The formula from PyTorch normalization to SnapML normalization is \n",
        "\n",
        "std = [0.229, 0.224, 0.225]\n",
        "\n",
        "mean = [0.485, 0.456, 0.406]\n",
        "\n",
        "n = (i - mean)/std\n",
        "\n",
        "scale = [1.0 / 255 /s for s in std]\n",
        "\n",
        "print(scale)\n",
        "\n",
        "bias = [-m / s for m, s in zip(mean, std)] \n",
        "\n",
        "print(bias))\n",
        "\n",
        "=================\n",
        "\n",
        "\n",
        "5. Stretch set to False\n",
        "\n",
        "6. In the ML Compoenet's Inspector tab, set Texture to Device Camera Texture.\n",
        "\n",
        "7. Then in object tab add a Screen Text and Helper Script> Behavior Script\n",
        "\n",
        "8. Finally we want to add script in our resource tab, and add Script. In the Scene Object inspector tab, set the script to run on awake, with the ML Component and screen text we added.\n",
        "\n"
      ]
    },
    {
      "cell_type": "markdown",
      "source": [
        "Note: This tutorial has referenced pytorch imagenet training example."
      ],
      "metadata": {
        "id": "2TowO7DmFJe1"
      }
    }
  ]
}